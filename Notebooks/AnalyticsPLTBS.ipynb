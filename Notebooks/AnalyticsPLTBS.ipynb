{
 "cells": [
  {
   "cell_type": "code",
   "execution_count": 1,
   "metadata": {},
   "outputs": [],
   "source": [
    "# Bibliotecas de uso general en el cuaderno\n",
    "import json\n",
    "import pickle\n",
    "import os\n",
    "import osmnx as ox\n",
    "import geopandas as gpd\n",
    "from myutils import *\n",
    "from numpy import random\n",
    "\n",
    "random.seed(0)"
   ]
  },
  {
   "cell_type": "code",
   "execution_count": 2,
   "metadata": {},
   "outputs": [],
   "source": [
    "# Directorio de datos generales\n",
    "path = \"../GeoData/\"\n",
    "\n",
    "# Carga el grafo de la red de transporte de la Ciudad de México\n",
    "g = ox.load_graphml(filepath = path + \"graph_transport.graphml\")\n",
    "gdf_nodes, gdf_edges = ox.graph_to_gdfs(g, nodes=True, edges=True, node_geometry=True, fill_edge_geometry=True)"
   ]
  },
  {
   "cell_type": "code",
   "execution_count": 3,
   "metadata": {},
   "outputs": [
    {
     "name": "stdout",
     "output_type": "stream",
     "text": [
      "Grafo de transporte y PLTBs cargados\n"
     ]
    }
   ],
   "source": [
    "# Carga las pltbs\n",
    "pltbs = gpd.read_file(path + 'PLTBs.gpkg', layer = 'PLTBs_nodes')\n",
    "\n",
    "# Serializa los datos de tipo lista\n",
    "pltbs['streets'] = pltbs['streets'].apply(json.loads)\n",
    "pltbs['oneway'] = pltbs['oneway'].apply(json.loads)\n",
    "pltbs['length'] = pltbs['length'].apply(json.loads)\n",
    "pltbs['capacity'] = pltbs['capacity'].apply(json.loads)\n",
    "pltbs['grouped'] = pltbs['grouped'].apply(json.loads)\n",
    "pltbs_grupos= [item for sublist in [ i for i in pltbs['grouped']] for item in sublist]\n",
    "pltbs_nodos = list(pltbs['node'])\n",
    "pltbs.set_index('node', inplace=True)\n",
    "print('Grafo de transporte y PLTBs cargados')"
   ]
  },
  {
   "cell_type": "code",
   "execution_count": 4,
   "metadata": {},
   "outputs": [],
   "source": [
    "voronoi_pltbs = nx.voronoi_cells(g, pltbs_nodos, weight='weight')\n",
    "unreachable = voronoi_pltbs[\"unreachable\"]\n",
    "del(voronoi_pltbs)\n",
    "g = g.remove_nodes_from(unreachable)"
   ]
  },
  {
   "cell_type": "code",
   "execution_count": 5,
   "metadata": {},
   "outputs": [],
   "source": [
    "traffic_path = '../../TrafficDataAuto/'\n",
    "traffic_files = [file for file in os.listdir(traffic_path) if file.endswith(\"_traffic_data.tar\")]"
   ]
  },
  {
   "cell_type": "code",
   "execution_count": 6,
   "metadata": {},
   "outputs": [],
   "source": [
    "horas = [7,8,9,11,13,15,17,19,20,21]\n",
    "traffic_data = dict([(h,[]) for h in horas])"
   ]
  },
  {
   "cell_type": "code",
   "execution_count": 7,
   "metadata": {},
   "outputs": [],
   "source": [
    "for f in traffic_files:\n",
    "    hora = int(f.split('_')[4].split('-')[0])\n",
    "    if hora in horas:\n",
    "        traffic_data[hora].append(f)"
   ]
  },
  {
   "cell_type": "code",
   "execution_count": 9,
   "metadata": {},
   "outputs": [
    {
     "name": "stdout",
     "output_type": "stream",
     "text": [
      "7 0.96 8.15 0.99 5.43 0.99 4.08 1.0 3.26 1.0 2.72 \n",
      "\n",
      "8 0.96 8.24 0.99 5.49 0.99 4.12 1.0 3.3 1.0 2.75 \n",
      "\n",
      "9 0.96 8.17 0.99 5.45 1.0 4.09 1.0 3.27 1.0 2.72 \n",
      "\n",
      "11 0.96 8.09 0.99 5.39 1.0 4.04 1.0 3.24 1.0 2.7 \n",
      "\n",
      "13 0.96 8.38 0.99 5.59 1.0 4.19 1.0 3.35 1.0 2.79 \n",
      "\n",
      "15 0.95 8.7 0.99 5.8 0.99 4.35 1.0 3.48 1.0 2.9 \n",
      "\n",
      "17 0.96 8.46 0.99 5.64 0.99 4.23 1.0 3.39 1.0 2.82 \n",
      "\n",
      "19 0.95 8.96 0.98 5.97 0.99 4.48 1.0 3.58 1.0 2.99 \n",
      "\n",
      "20 0.95 8.7 0.99 5.8 0.99 4.35 1.0 3.48 1.0 2.9 \n",
      "\n",
      "21 0.96 8.45 0.99 5.64 0.99 4.23 1.0 3.38 1.0 2.82 \n",
      "\n"
     ]
    },
    {
     "data": {
      "image/png": "[encoded data removed]",
      "text/plain": [
       "<Figure size 640x480 with 1 Axes>"
      ]
     },
     "metadata": {},
     "output_type": "display_data"
    }
   ],
   "source": [
    "# Pondera las aristas según el tráfico, momentaneamente se asigna un valor de 0 a las aristas bloqueadas\n",
    "weight_max = 2e20\n",
    "map_vel = {1:1, 2: 2, 3: 4, 4: 6.7, 5: weight_max, 6: weight_max}\n",
    "velocidades = [20,30,40,50,60]\n",
    "\n",
    "k = []\n",
    "\n",
    "\n",
    "for h in horas:\n",
    "\n",
    "    linea = str(h) + ' '\n",
    "\n",
    "    for vel in velocidades:\n",
    "        m_x_min = vel*1000/60\n",
    "        max_time = 9 #minutos\n",
    "\n",
    "        mean_traffic = sum([pd.read_pickle(os.path.join(traffic_path, t)) for t in traffic_data[h]])/len(traffic_data[h])\n",
    "        gdf_edges_h = copy(gdf_edges)\n",
    "        gdf_nodes_h = copy(gdf_nodes)\n",
    "        gdf_nodes_h['cell'] = 0\n",
    "\n",
    "        gdf_edges_h = gdf_edges_h.assign(traffic = mean_traffic.round().astype(int)) \n",
    "        gdf_edges_h['weight'] = gdf_edges_h.apply(lambda x: x['length'] * map_vel[ x['traffic']], axis=1)\n",
    "\n",
    "        g_h = ox.graph_from_gdfs(gdf_nodes, gdf_edges_h)\n",
    "        voronoi_h = voronoi_cells(g_h, pltbs_nodos, weight='weight', pred=True, length=True)\n",
    "        pltbs_h = pltbs.copy()\n",
    "\n",
    "        dists = pd.Series(voronoi_h['length'],)\n",
    "        dists[dists == 0] = weight_max\n",
    "        dists = dists[dists < weight_max]\n",
    "        dists = dists.round(4)\n",
    "\n",
    "        dists = dists/m_x_min\n",
    "\n",
    "        dists[ dists > max_time] = max_time + 1\n",
    "        aceptable = round(sum(dists <= max_time)/len(dists),2)\n",
    "\n",
    "        #dists.hist(bins = (max_time+1)*2)\n",
    "        p95 = round(dists.quantile(q=0.95),2)\n",
    "\n",
    "        linea += str(aceptable) + ' ' + str(p95) + ' '\n",
    "    \n",
    "    linea += '\\n'\n",
    "    print(linea)\n",
    "\n"
   ]
  },
  {
   "cell_type": "code",
   "execution_count": null,
   "metadata": {},
   "outputs": [],
   "source": []
  },
  {
   "cell_type": "code",
   "execution_count": null,
   "metadata": {},
   "outputs": [],
   "source": [
    "gdf_nodes_h.plot(column='cell', cmap='RdPu',\n",
    "                 figsize=(5,17/2),\n",
    "                 markersize=2,)"
   ]
  }
 ],
 "metadata": {
  "kernelspec": {
   "display_name": "geo",
   "language": "python",
   "name": "python3"
  },
  "language_info": {
   "codemirror_mode": {
    "name": "ipython",
    "version": 3
   },
   "file_extension": ".py",
   "mimetype": "text/x-python",
   "name": "python",
   "nbconvert_exporter": "python",
   "pygments_lexer": "ipython3",
   "version": "3.11.5"
  }
 },
 "nbformat": 4,
 "nbformat_minor": 2
}
