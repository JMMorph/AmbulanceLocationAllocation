{
 "cells": [
  {
   "cell_type": "code",
   "execution_count": 1,
   "metadata": {},
   "outputs": [],
   "source": [
    "import geopandas as gpd\n",
    "from myutils import *\n",
    "import fiona"
   ]
  },
  {
   "cell_type": "markdown",
   "metadata": {},
   "source": [
    "## Convierte a minúsculas todo el contenido de los archivos geopackage\n",
    "En la siguiente celda se ejecutan las funciones que convierten todos los valores de las capas a minúsculas, y añade los campos de latitud y longitud en el sistema 4326"
   ]
  },
  {
   "cell_type": "code",
   "execution_count": null,
   "metadata": {},
   "outputs": [],
   "source": [
    "file = r'../GeoData/Polygons.gpkg'\n",
    "layers = [l for l in fiona.listlayers(file) if 'style' not in l]\n",
    "print(layers)\n",
    "\n",
    "# Para cada capa, se aplica la función lower_content y add_latlon\n",
    "for layer in layers:\n",
    "    df = gpd.read_file(file, layer = layer)\n",
    "    lower_content(df, filepath=file, layer=layer)\n",
    "    add_latlon(df, filepath=file, layer=layer)"
   ]
  },
  {
   "cell_type": "markdown",
   "metadata": {},
   "source": [
    "### Convierte en datos numéricos los campos necesarios"
   ]
  },
  {
   "cell_type": "code",
   "execution_count": null,
   "metadata": {},
   "outputs": [],
   "source": [
    "file = r'../GeoData/Polygons.gpkg'\n",
    "layers = ['manzanas']\n",
    "columns = {'pobtot':int, 'vivtot':int, 'vivpar':int, 'tvipahab':int, 'prom_ocup':float}\n",
    "\n",
    "print(layers)\n",
    "\n",
    "# Para cada capa, se aplica la función lower_content y add_latlon\n",
    "for layer in layers:\n",
    "    df = gpd.read_file(file, layer = layer)\n",
    "    column_to_numeric(df, columns=columns, filepath=file, layer=layer)"
   ]
  },
  {
   "cell_type": "markdown",
   "metadata": {},
   "source": [
    "### junta los archivos del catastro y del SEDUVI de todas las alcaldías"
   ]
  },
  {
   "cell_type": "code",
   "execution_count": 2,
   "metadata": {},
   "outputs": [],
   "source": [
    "path_origin = r'../GeoData/raw/'\n",
    "\n",
    "\n",
    "nombres = ['alvaro_obregon', 'azcapotzalco', 'benito_juarez', 'coyoacan', 'cuajimalpa', 'cuauhtemoc', 'gustavo_a_madero', 'iztacalco', 'iztapalapa', 'magdalena_contreras', 'miguel_hidalgo', 'milpa_alta', 'tlahuac', 'tlalpan', 'venustiano_carranza', 'xochimilco']\n",
    "nombres_b = ['álvaro obregón', 'azcapotzalco', 'benito juárez', 'coyoacán', 'cuajimalpa de morelos', 'cuauhtémoc', 'gustavo a madero', 'iztacalco', 'iztapalapa', 'magdalena contreras', 'miguel hidalgo', 'milpa alta', 'tláhuac', 'tlalpan', 'venustiano carranza', 'xochimilco']\n",
    "claves = ['09010', '09002','09014','09003','09004','09015','09005','09006','09007','09008','09016','09009','09011','09012','09017','09013']\n",
    "\n",
    "columns = {'superficie':float, 'niveles':int, 'altura':float, 'area_libre':int, 'minimo_viv':int}\n",
    "\n",
    "dfs_catastro = []\n",
    "dfs_seduvi = []\n"
   ]
  },
  {
   "cell_type": "code",
   "execution_count": 3,
   "metadata": {},
   "outputs": [
    {
     "name": "stdout",
     "output_type": "stream",
     "text": [
      "alvaro_obregon\n",
      "Completado: álvaro obregón 09010\n",
      "azcapotzalco\n",
      "Completado: azcapotzalco 09002\n",
      "benito_juarez\n",
      "Completado: benito juárez 09014\n",
      "coyoacan\n",
      "Completado: coyoacán 09003\n",
      "cuajimalpa\n",
      "Completado: cuajimalpa de morelos 09004\n",
      "cuauhtemoc\n",
      "Completado: cuauhtémoc 09015\n",
      "gustavo_a_madero\n",
      "Completado: gustavo a madero 09005\n",
      "iztacalco\n",
      "Completado: iztacalco 09006\n",
      "iztapalapa\n",
      "Completado: iztapalapa 09007\n",
      "magdalena_contreras\n",
      "Completado: magdalena contreras 09008\n",
      "miguel_hidalgo\n",
      "Completado: miguel hidalgo 09016\n",
      "milpa_alta\n",
      "Completado: milpa alta 09009\n",
      "tlahuac\n",
      "Completado: tláhuac 09011\n",
      "tlalpan\n",
      "Completado: tlalpan 09012\n",
      "venustiano_carranza\n",
      "Completado: venustiano carranza 09017\n",
      "xochimilco\n",
      "Completado: xochimilco 09013\n"
     ]
    }
   ],
   "source": [
    "for nombre, nombre_b, clave in zip(nombres, nombres_b, claves):\n",
    "    print(nombre)\n",
    "    file_catastro = path_origin + 'catastro/catastro2021_'+ nombre.upper() + '/catastro2021_' + nombre.upper() + '.shp'\n",
    "    df_catastro = gpd.read_file(file_catastro)\n",
    "    \n",
    "    df_catastro['alcaldia'] = nombre_b\n",
    "    df_catastro['cve_alc'] = clave\n",
    "    \n",
    "    \n",
    "    file_seduvi = path_origin + 'SEDUVI/'+ nombre + '/' + nombre + '.shp'\n",
    "    df_seduvi = gpd.read_file(file_seduvi)\n",
    "    \n",
    "    df_seduvi = df_seduvi.rename(columns={'latitud':'lat', 'longitud':'lon'})\n",
    "    \n",
    "    df_seduvi = lower_content(df_seduvi)\n",
    "    df_seduvi = column_to_numeric(df_seduvi, columns)\n",
    "    \n",
    "    df_catastro['alcaldia'] = nombre_b\n",
    "    df_catastro['cve_alc'] = clave\n",
    "    \n",
    "    dfs_catastro.append(df_catastro)\n",
    "    dfs_seduvi.append(df_seduvi)\n",
    "    \n",
    "    print('Completado: ' + nombre_b + ' ' + clave)\n"
   ]
  },
  {
   "cell_type": "code",
   "execution_count": 11,
   "metadata": {},
   "outputs": [],
   "source": [
    "for p in dfs_catastro:\n",
    "    p['fid'] = p['fid'].astype(float)\n",
    "    p['fid'] = p['fid'].astype(int)"
   ]
  },
  {
   "cell_type": "code",
   "execution_count": 12,
   "metadata": {},
   "outputs": [],
   "source": [
    "\n",
    "catastro_cdmx = pd.concat(dfs_catastro)\n",
    "catastro_cdmx = gpd.GeoDataFrame(catastro_cdmx, geometry='geometry')\n",
    "\n",
    "seduvi_cdmx = pd.concat(dfs_seduvi)\n",
    "seduvi_cdmx = gpd.GeoDataFrame(seduvi_cdmx, geometry='geometry')\n",
    "\n",
    "catastro_cdmx.to_file('../GeoData/catastro.gpkg', layer='catastro_cdmx', driver='GPKG')\n",
    "seduvi_cdmx.to_file('../GeoData/catastro.gpkg', layer='seduvi_cdmx', driver='GPKG')\n",
    "\n"
   ]
  },
  {
   "cell_type": "code",
   "execution_count": null,
   "metadata": {},
   "outputs": [],
   "source": [
    "nombre = 'gustavo_a_madero'\n",
    "file_seduvi = path_origin + 'SEDUVI/'+ nombre + '/' + nombre + '.shp'\n",
    "df_seduvi = gpd.read_file(file_seduvi)\n",
    "\n",
    "df_seduvi = df_seduvi.rename(columns={'latitud':'lat', 'longitud':'lot'})\n",
    "\n",
    "df_seduvi = lower_content(df_seduvi)\n",
    "df_seduvi = column_to_numeric(df_seduvi, columns)\n"
   ]
  }
 ],
 "metadata": {
  "kernelspec": {
   "display_name": "rapids",
   "language": "python",
   "name": "python3"
  },
  "language_info": {
   "codemirror_mode": {
    "name": "ipython",
    "version": 3
   },
   "file_extension": ".py",
   "mimetype": "text/x-python",
   "name": "python",
   "nbconvert_exporter": "python",
   "pygments_lexer": "ipython3",
   "version": "3.10.12"
  },
  "orig_nbformat": 4
 },
 "nbformat": 4,
 "nbformat_minor": 2
}
