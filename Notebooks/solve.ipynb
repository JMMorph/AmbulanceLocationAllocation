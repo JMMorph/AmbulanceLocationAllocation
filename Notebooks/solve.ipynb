{
 "cells": [
  {
   "cell_type": "code",
   "execution_count": 1,
   "metadata": {},
   "outputs": [],
   "source": [
    "from myutils import *"
   ]
  },
  {
   "cell_type": "markdown",
   "metadata": {},
   "source": [
    "## Información del Incidente\n",
    "### Generación de la instancia"
   ]
  },
  {
   "cell_type": "code",
   "execution_count": 2,
   "metadata": {},
   "outputs": [
    {
     "name": "stdout",
     "output_type": "stream",
     "text": [
      "Grafo de transporte, bases candidatas y hospitales cargados\n",
      "Se usan los siguientes archivos de tráfico: \n",
      "2023-12-07 14:16:02\n",
      "2023-12-07 14:33:04\n",
      "2023-11-09 15:01:11\n",
      "2023-11-30 15:01:28\n",
      "2023-12-07 14:44:13\n",
      "2023-11-02 15:01:00\n",
      "2023-12-07 14:26:55\n",
      "2023-12-07 14:08:39\n",
      "2023-11-23 15:01:01\n",
      "2023-12-07 14:20:48\n",
      "2023-10-26 15:01:03\n",
      "2023-11-16 15:01:05\n",
      "Datos de tráfico obtenidos\n",
      "Gráfo con tráfico y aristas bloqueadas creado\n",
      "Rutas calculadas\n",
      "Matriz OD calculada\n",
      "Instancia creada\n",
      "Instancia guardada como:  Results/scenario/InstanciaEjemplo.pkl\n"
     ]
    }
   ],
   "source": [
    "# fecha de inicio del incidente\n",
    "fecha = datetime.datetime(2023, 12, 14)\n",
    "\n",
    "# hora del inicio del incidente\n",
    "hora = datetime.time(14,3)\n",
    "\n",
    "date = datetime.datetime.combine(fecha, hora)\n",
    "\n",
    "# Rutas y nombres de archivos\n",
    "path_source = '../GeoData/'\n",
    "path_scenario = 'Results/scenario/'\n",
    "file_scenario = 'puntosEjemplo.gpkg'\n",
    "layer_scenario = 'puntosDemanda'\n",
    "out = 'InstanciaEjemplo'\n",
    "\n",
    "# Crear instancia\n",
    "instance = get_instance(path_source = path_source, \n",
    "            path_scenario = path_scenario,\n",
    "            file_scenario = file_scenario,\n",
    "            layer_scenario = layer_scenario,\n",
    "            ambulances = 250,\n",
    "            traffic_file = None,\n",
    "            traffic = 'previous',\n",
    "            traffic_history = '../GeoData/Traffic/TrafficDataAuto/',\n",
    "            date = date,\n",
    "            out = out,\n",
    "            saveGraph = False,\n",
    "            saveInstance = True,\n",
    "            verbose = True)"
   ]
  },
  {
   "cell_type": "code",
   "execution_count": 3,
   "metadata": {},
   "outputs": [],
   "source": [
    "instance2 = copy(instance)\n"
   ]
  },
  {
   "cell_type": "code",
   "execution_count": null,
   "metadata": {},
   "outputs": [],
   "source": []
  }
 ],
 "metadata": {
  "kernelspec": {
   "display_name": "rapids-pymoo",
   "language": "python",
   "name": "python3"
  },
  "language_info": {
   "codemirror_mode": {
    "name": "ipython",
    "version": 3
   },
   "file_extension": ".py",
   "mimetype": "text/x-python",
   "name": "python",
   "nbconvert_exporter": "python",
   "pygments_lexer": "ipython3",
   "version": "3.10.12"
  }
 },
 "nbformat": 4,
 "nbformat_minor": 2
}
