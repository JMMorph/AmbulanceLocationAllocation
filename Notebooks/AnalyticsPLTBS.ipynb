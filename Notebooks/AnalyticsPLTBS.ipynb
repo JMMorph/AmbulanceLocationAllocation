{
 "cells": [
  {
   "cell_type": "code",
   "execution_count": 1,
   "metadata": {},
   "outputs": [],
   "source": [
    "# Bibliotecas de uso general en el cuaderno\n",
    "import json\n",
    "import pickle\n",
    "import os\n",
    "import osmnx as ox\n",
    "import geopandas as gpd\n",
    "from myutils import *\n",
    "from numpy import random\n",
    "\n",
    "random.seed(0)"
   ]
  },
  {
   "cell_type": "code",
   "execution_count": 2,
   "metadata": {},
   "outputs": [],
   "source": [
    "# Directorio de datos generales\n",
    "path = \"../GeoData/\"\n",
    "\n",
    "# Carga el grafo de la red de transporte de la Ciudad de México\n",
    "g = ox.load_graphml(filepath = path + \"graph_transport.graphml\")\n",
    "gdf_nodes, gdf_edges = ox.graph_to_gdfs(g, nodes=True, edges=True, node_geometry=True, fill_edge_geometry=True)"
   ]
  },
  {
   "cell_type": "code",
   "execution_count": 3,
   "metadata": {},
   "outputs": [
    {
     "name": "stdout",
     "output_type": "stream",
     "text": [
      "Grafo de transporte y PLTBs cargados\n"
     ]
    }
   ],
   "source": [
    "# Carga las pltbs\n",
    "pltbs = gpd.read_file(path + 'PLTBs.gpkg', layer = 'PLTBs_nodes')\n",
    "\n",
    "# Serializa los datos de tipo lista\n",
    "pltbs['streets'] = pltbs['streets'].apply(json.loads)\n",
    "pltbs['oneway'] = pltbs['oneway'].apply(json.loads)\n",
    "pltbs['length'] = pltbs['length'].apply(json.loads)\n",
    "pltbs['capacity'] = pltbs['capacity'].apply(json.loads)\n",
    "pltbs['grouped'] = pltbs['grouped'].apply(json.loads)\n",
    "pltbs_grupos= [item for sublist in [ i for i in pltbs['grouped']] for item in sublist]\n",
    "pltbs_nodos = list(pltbs['node'])\n",
    "pltbs.set_index('node', inplace=True)\n",
    "print('Grafo de transporte y PLTBs cargados')"
   ]
  },
  {
   "cell_type": "code",
   "execution_count": 4,
   "metadata": {},
   "outputs": [],
   "source": [
    "voronoi_pltbs = nx.voronoi_cells(g, pltbs_nodos, weight='weight')\n",
    "unreachable = voronoi_pltbs[\"unreachable\"]\n",
    "del(voronoi_pltbs)\n",
    "g = g.remove_nodes_from(unreachable)"
   ]
  },
  {
   "cell_type": "code",
   "execution_count": 6,
   "metadata": {},
   "outputs": [],
   "source": [
    "traffic_path = '../GeoData/Traffic//TrafficDataAuto/'\n",
    "traffic_files = [file for file in os.listdir(traffic_path) if file.endswith(\"_traffic_data.tar\")]"
   ]
  },
  {
   "cell_type": "code",
   "execution_count": 7,
   "metadata": {},
   "outputs": [],
   "source": [
    "horas = [7,8,9,11,13,15,17,19,20,21]\n",
    "traffic_data = dict([(h,[]) for h in horas])"
   ]
  },
  {
   "cell_type": "code",
   "execution_count": 8,
   "metadata": {},
   "outputs": [],
   "source": [
    "for f in traffic_files:\n",
    "    hora = int(f.split('_')[4].split('-')[0])\n",
    "    if hora in horas:\n",
    "        traffic_data[hora].append(f)"
   ]
  },
  {
   "cell_type": "code",
   "execution_count": 47,
   "metadata": {},
   "outputs": [
    {
     "name": "stdout",
     "output_type": "stream",
     "text": [
      "7 & 47 0.96 & 8.15 & 0.99 & 5.44 & 0.99 & 4.08 & 1.0 & 3.26 & 1.0 & 2.72 & \n",
      "\n",
      "8 & 69 0.96 & 8.25 & 0.99 & 5.5 & 0.99 & 4.13 & 1.0 & 3.3 & 1.0 & 2.75 & \n",
      "\n",
      "9 & 66 0.96 & 8.17 & 0.99 & 5.45 & 1.0 & 4.09 & 1.0 & 3.27 & 1.0 & 2.72 & \n",
      "\n",
      "11 & 52 0.96 & 8.09 & 0.99 & 5.39 & 1.0 & 4.04 & 1.0 & 3.24 & 1.0 & 2.7 & \n",
      "\n",
      "13 & 74 0.96 & 8.39 & 0.99 & 5.59 & 1.0 & 4.19 & 1.0 & 3.36 & 1.0 & 2.8 & \n",
      "\n"
     ]
    }
   ],
   "source": [
    "# Pondera las aristas según el tráfico, momentaneamente se asigna un valor de 0 a las aristas bloqueadas\n",
    "weight_max = 2e20\n",
    "map_vel = {1:1, 2: 2, 3: 4, 4: 6.7, 5: weight_max, 6: weight_max}\n",
    "velocidades = [20,30,40,50,60]\n",
    "\n",
    "k = []\n",
    "\n",
    "\n",
    "for h in horas:\n",
    "\n",
    "    linea = str(h) + ' & '\n",
    "    \n",
    "    mean_traffic = sum([pd.read_pickle(os.path.join(traffic_path, t)) for t in traffic_data[h]])/len(traffic_data[h])\n",
    "    gdf_edges_h = copy(gdf_edges)\n",
    "    gdf_nodes_h = copy(gdf_nodes)\n",
    "    gdf_nodes_h['cell'] = 0\n",
    "\n",
    "    gdf_edges_h = gdf_edges_h.assign(traffic = mean_traffic.round().astype(int)) \n",
    "    gdf_edges_h['weight'] = gdf_edges_h.apply(lambda x: x['length'] * map_vel[ x['traffic']], axis=1)\n",
    "\n",
    "    # Se descartan las aristas con tráfico > 2\n",
    "    pltbs_a_descartar = set()\n",
    "    aristas_trafico_d = [(u,v,k) for u,v,k in gdf_edges_h[gdf_edges_h['traffic'] > 2].index.to_series()]\n",
    "    for u,v,k in aristas_trafico_d:\n",
    "        \n",
    "        # Si el nodo v es una PLTB, se agrega a la lista de PLTBs a descartar\n",
    "        if v in pltbs_nodos:\n",
    "            pltbs_a_descartar.add(v)\n",
    "        if u in pltbs_nodos:\n",
    "            pltbs_a_descartar.add(u)\n",
    "    \n",
    "    linea += str(len(pltbs_a_descartar)) + ' '\n",
    "    \n",
    "    pltbs_h = list(set(pltbs_nodos) - pltbs_a_descartar)\n",
    "    g_h = ox.graph_from_gdfs(gdf_nodes, gdf_edges_h)\n",
    "    voronoi_h = voronoi_cells(g_h, pltbs_h, weight='weight', pred=True, length=True)\n",
    "    \n",
    "    dists = pd.Series(voronoi_h['length'])\n",
    "    dists[dists == 0] = weight_max\n",
    "    dists = dists[dists < weight_max]\n",
    "    dists = dists.round(4)\n",
    "\n",
    "    for vel in velocidades:\n",
    "        m_x_min = vel*1000/60\n",
    "        max_time = 9 #minutos\n",
    "\n",
    "\n",
    "        dists_v = copy(dists)/m_x_min\n",
    "\n",
    "        dists_v[ dists_v > max_time] = max_time + 1\n",
    "        aceptable = round(sum(dists_v <= max_time)/len(dists_v),2)\n",
    "\n",
    "        #dists.hist(bins = (max_time+1)*2)\n",
    "        p95 = round(dists_v.quantile(q=0.95),2)\n",
    "\n",
    "        linea += str(aceptable) + ' & ' + str(p95) + ' & '\n",
    "    \n",
    "    linea += '\\n'\n",
    "    print(linea)\n",
    "\n"
   ]
  },
  {
   "cell_type": "code",
   "execution_count": null,
   "metadata": {},
   "outputs": [],
   "source": [
    "pltbs_a_descartar = set()\n",
    "aristas_trafico_d = [(u,v,k) for u,v,k in gdf_edges_h[gdf_edges_h['traffic'] > 2].index.to_series()]\n",
    "# En el caso del tráfico, se descartan las aristas que no tienen tráfico libre \n",
    "for u,v,k in aristas_trafico_d:\n",
    "    \n",
    "    # Si el nodo v es una PLTB, se agrega a la lista de PLTBs a descartar\n",
    "    if v in pltbs_nodos:\n",
    "        pltbs_a_descartar.add(v)\n",
    "    if u in pltbs_nodos:\n",
    "        pltbs_a_descartar.add(u)\n",
    "        \n",
    "pltbs_nodos"
   ]
  },
  {
   "cell_type": "code",
   "execution_count": 41,
   "metadata": {},
   "outputs": [],
   "source": [
    "pltbs_nodos_h = list(set(pltbs_nodos) - pltbs_a_descartar)"
   ]
  },
  {
   "cell_type": "code",
   "execution_count": null,
   "metadata": {},
   "outputs": [],
   "source": [
    "gdf_nodes_h.plot(column='cell', cmap='RdPu',\n",
    "                 figsize=(5,17/2),\n",
    "                 markersize=2,)"
   ]
  }
 ],
 "metadata": {
  "kernelspec": {
   "display_name": "geo",
   "language": "python",
   "name": "python3"
  },
  "language_info": {
   "codemirror_mode": {
    "name": "ipython",
    "version": 3
   },
   "file_extension": ".py",
   "mimetype": "text/x-python",
   "name": "python",
   "nbconvert_exporter": "python",
   "pygments_lexer": "ipython3",
   "version": "3.10.12"
  }
 },
 "nbformat": 4,
 "nbformat_minor": 2
}
