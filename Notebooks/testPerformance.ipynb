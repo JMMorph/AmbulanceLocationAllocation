{
 "cells": [
  {
   "cell_type": "code",
   "execution_count": 1,
   "metadata": {},
   "outputs": [],
   "source": [
    "from optimize import *\n",
    "import time\n",
    "cmap = plt.get_cmap('viridis')"
   ]
  },
  {
   "cell_type": "code",
   "execution_count": 2,
   "metadata": {},
   "outputs": [],
   "source": [
    "configuraciones = ['--cr un --mu bf --a ur --rep rm --pop 200 --dec 50 --prob_cr 0.5 --prob_mu 0.25 --prob_ini 0.1',\n",
    "                    '--cr un --mu bf --a ur --rep rm --pop 200 --dec 50 --prob_cr 0.75 --prob_mu 0.5 --prob_ini 0.25',\n",
    "                    '--cr hun --mu bfo --a ur --rep rm --pop 200 --dec 50 --prob_cr 0.5 --prob_mu 0.5 --prob_ini 0.25',\n",
    "                    '--cr un --mu bf --a ur --rep rm --pop 200 --dec 50 --prob_cr 0.5 --prob_mu 0.5 --prob_ini 0.1',\n",
    "                    '--cr un --mu bfo --a ur --rep rm --pop 200 --dec 50 --prob_cr 0.5 --prob_mu 0.5 --prob_ini 0.1']"
   ]
  },
  {
   "cell_type": "code",
   "execution_count": 3,
   "metadata": {},
   "outputs": [],
   "source": [
    "instance_id = '7'\n",
    "instance = '../GeoData/Instances/Instance_' + instance_id + '.pkl'\n",
    "\n",
    "output = 'Results/testPerformance'+instance_id\n",
    "testPerformance = dict([i, {'hv':[], 'res':[], 'time':[]}] for i in range(len(configuraciones)))\n",
    "plot_performance = False\n",
    "plot_time = True"
   ]
  },
  {
   "cell_type": "markdown",
   "metadata": {},
   "source": [
    "## Celda para ejecutar el análisis desde cero\n",
    "En esta celda se realizan las 20 ejecuciones de cada configuración para la instancia establecida arriba"
   ]
  },
  {
   "cell_type": "code",
   "execution_count": 4,
   "metadata": {},
   "outputs": [],
   "source": [
    "if False:\n",
    "    for i,p in enumerate(configuraciones):\n",
    "        \n",
    "        for ejec in range(20):\n",
    "            seed = str(ejec*308)\n",
    "            \n",
    "            # Extra whitespace around options is important!\n",
    "            parameters = ' -i ' + instance + ' --seed ' + seed + ' ' + p\n",
    "\n",
    "            ini = time.time()\n",
    "            hv, res = exec_algorithm(parameters, returnData=True, timeout=10)\n",
    "            fin = time.time()\n",
    "            \n",
    "            testPerformance[i]['hv'].append(hv)\n",
    "            testPerformance[i]['res'].append(res)\n",
    "            testPerformance[i]['time'].append(fin - ini)\n",
    "            \n",
    "            finish = ['ok','fail'][res == -1]\n",
    "            \n",
    "            linea = str(i) + ' ' + str(ejec) + ' ' + str(hv) + ' ' + str(fin - ini) + ' ' + finish + '\\n'\n",
    "            with open(output + '.txt', 'a') as file:\n",
    "                file.write(linea)\n",
    "                \n",
    "            with open(output+'.pkl', 'wb') as f:  \n",
    "                pickle.dump(testPerformance, f)\n",
    "                f.close()\n",
    "            \n",
    "            print(linea)"
   ]
  },
  {
   "cell_type": "markdown",
   "metadata": {},
   "source": [
    "## Celda para cargar el análisis previo\n",
    "PAra no volver a ejecutar desde cero el análisis, se carga la información del archivo pickle."
   ]
  },
  {
   "cell_type": "code",
   "execution_count": 7,
   "metadata": {},
   "outputs": [],
   "source": [
    "with open('Results/testPerformance' + instance_id+ '.pkl', 'rb') as f:\n",
    "    testPerformance = pickle.load(f) \n",
    "    f.close()"
   ]
  },
  {
   "cell_type": "markdown",
   "metadata": {},
   "source": [
    "### Cargar datos de irace\n",
    "En caso de ser de utilidad"
   ]
  },
  {
   "cell_type": "code",
   "execution_count": 5,
   "metadata": {},
   "outputs": [],
   "source": [
    "irace = pd.read_csv('../ajuste/export/export.csv')\n",
    "irace.pop('Unnamed: 0')\n",
    "\n",
    "ejecs = irace[irace['instancename'] == 'Instance_' + instance_id]\n",
    "ejecs = ejecs[ejecs['type']=='regular']\n",
    "ejecs = ejecs[ejecs['value'] <= 0.99]"
   ]
  },
  {
   "cell_type": "code",
   "execution_count": 6,
   "metadata": {},
   "outputs": [],
   "source": [
    "otras_conf = ejecs['value'].to_list()\n",
    "otras_conf_color = ejecs['id'].to_list()\n",
    "bkv = ejecs['bkv'].to_list()[0]"
   ]
  },
  {
   "cell_type": "markdown",
   "metadata": {},
   "source": [
    "## Graficar el desempeño por instancia"
   ]
  },
  {
   "cell_type": "code",
   "execution_count": 8,
   "metadata": {},
   "outputs": [],
   "source": [
    "if plot_performance:\n",
    "    fig, ax = plt.subplots(figsize=(3, 8))\n",
    "\n",
    "    # Coordenadas x para las barras\n",
    "    ind = len(testPerformance)\n",
    "\n",
    "    # Ancho de las barras\n",
    "    ancho_barra = 0.5\n",
    "\n",
    "    hipervolumenes = [testPerformance[i]['hv'] for i in range(ind)]\n",
    "\n",
    "    tiempos = [np.mean(testPerformance[i]['time']) for i in range(ind)]\n",
    "\n",
    "    ax.boxplot(hipervolumenes,widths=ancho_barra, showfliers=True, zorder = 3, \n",
    "            medianprops=dict(color=(1,0,0,1)), )\n",
    "    # ax.scatter([0]*len(otras_conf), otras_conf, c=otras_conf_color, cmap='viridis', \n",
    "    #            marker='s', zorder = 3, alpha=0.2, linewidths=0, label='Configuraciones regulares')\n",
    "    for i in range(ind):\n",
    "        ax.scatter([i+1]*len(testPerformance[i]['hv']), testPerformance[i]['hv'], \n",
    "                cmap='viridis', marker='x', zorder = 3, alpha=0.2, linewidths=1)\n",
    "\n",
    "    ax.plot([-1,6], [bkv,bkv], '--', color='black', zorder = 0, label='Mejor valor conocido')\n",
    "\n",
    "    # Configuración de ejes y etiquetas\n",
    "    ax.set_xlabel('$Configuración$')\n",
    "    ax.set_ylabel('$Hipervolumen$')\n",
    "    ax.set_title('$Instancia\\ ' + instance_id + '$')\n",
    "    ax.set_xticklabels([f'{i+1}' for i in range(ind)])\n",
    "    ax.set_xlim([0,6])\n",
    "\n",
    "    # Leyenda para identificar los modelos\n",
    "    ax.legend()\n",
    "    ax.grid(True,zorder=0, color='gray', linestyle='--', linewidth=0.4)\n",
    "    ax.set_ylim([bkv-0.005, np.max(hipervolumenes)+0.01])\n",
    "\n",
    "    fig.savefig('/home/cic/Tesis/Figuras/Results/testPerformance' + instance_id + '.png', dpi=300, bbox_inches='tight')"
   ]
  },
  {
   "cell_type": "markdown",
   "metadata": {},
   "source": [
    "## Graficar el tiempo de ejecución para todas las instancias de prueba"
   ]
  },
  {
   "cell_type": "code",
   "execution_count": 19,
   "metadata": {},
   "outputs": [
    {
     "data": {
      "image/png": "[encoded data removed]",
      "text/plain": [
       "<Figure size 800x400 with 1 Axes>"
      ]
     },
     "metadata": {},
     "output_type": "display_data"
    }
   ],
   "source": [
    "if plot_time:\n",
    "    insts = ['4','7','5']\n",
    "    tiempos = dict([i, []] for i in insts)\n",
    "    num_confs = len(configuraciones)\n",
    "    ind = np.arange(num_confs)\n",
    "    \n",
    "    for i in insts:\n",
    "        with open('Results/testPerformance' + i+ '.pkl', 'rb') as f:\n",
    "            testPerformance = pickle.load(f) \n",
    "            tiempos[i] = [testPerformance[i]['time'] for i in range(len(testPerformance))]\n",
    "            f.close()\n",
    "\n",
    "\n",
    "    \n",
    "    fig, ax = plt.subplots(figsize=(8, 4))\n",
    "    \n",
    "    # Ancho de las barras\n",
    "    ancho_barra = 1\n",
    "    esp = 0.15 # Espacio entre barras\n",
    "\n",
    "    # Dibujar las barras\n",
    "    rects1 = ax.bar(2*ind + ind*3 - 0.5, np.mean(tiempos['4'],axis=1), ancho_barra, label='$Instancia\\ 4\\ (|J|=19)$', color=cmap(0.2), zorder = 2)\n",
    "    rects2 = ax.bar(2*ind + ind*3 + 1 - 0.5, np.mean(tiempos['7'],axis=1), ancho_barra, label='$Instancia\\ 7\\ (|J|=37)$', color=cmap(0.5), zorder = 2)\n",
    "    rects3 = ax.bar(2*ind + ind*3 + 2 - 0.5, np.mean(tiempos['5'],axis=1), ancho_barra, label='$Instancia\\ 5\\ (|J|=53)$', color=cmap(0.8), zorder = 2)\n",
    "\n",
    "    # ax.plot([-10,100],[np.mean(promedio_info), np.mean(promedio_info)], color=cmap(0.2), linestyle='--', linewidth=1, zorder=2)\n",
    "    # ax.plot([-10,100],[np.mean(promedio_procesos), np.mean(promedio_procesos)], color=cmap(0.5), linestyle='--', linewidth=1, zorder=2)\n",
    "\n",
    "    # Configuración de ejes y etiquetas\n",
    "    ax.set_xlabel('$Configuración$')\n",
    "    ax.set_ylabel('$Tiempo (s)$')\n",
    "    ax.set_title('Tiempo de procesamiento de las instancias')\n",
    "    ax.set_xticks([i*2 + 3 * i + 0.5 for i in range(len(tiempos['5']))])\n",
    "    ax.set_xticklabels([f'{i+1}' for i in range(len(tiempos['5']))])\n",
    "    ax.set_xlim([-2, 2*(num_confs-1) + 3*(num_confs-1) +3])\n",
    "    ax.set_ylim([0, 1.6*np.max([np.mean(tiempos['4']), np.mean(tiempos['7']), np.mean(tiempos['5'])])])\n",
    "\n",
    "    # Leyenda para identificar los modelos\n",
    "    ax.legend()\n",
    "    ax.grid(True,zorder=0, color='gray', linestyle='--', linewidth=0.4)\n",
    "    # Mostrar la gráfica\n",
    "    fig.savefig('/home/cic/Tesis/Figuras/Results/tiemposOptimización.png', dpi=300)"
   ]
  },
  {
   "cell_type": "code",
   "execution_count": 25,
   "metadata": {},
   "outputs": [],
   "source": [
    "insts = ['4','7','5']\n",
    "medianas = dict([i, []] for i in insts)\n",
    "\n",
    "for i in insts:\n",
    "    with open('Results/testPerformance' + i+ '.pkl', 'rb') as f:\n",
    "        testPerformance = pickle.load(f) \n",
    "        f.close()\n",
    "    \n",
    "    hipervolumenes = [testPerformance[i]['hv'] for i in range(len(testPerformance))]\n",
    "    \n",
    "    mediana = np.argsort(hipervolumenes, axis=1)\n",
    "    mediana = mediana[:,len(mediana[0])//2]\n",
    "    \n",
    "    medianas[i] = mediana\n",
    "    \n",
    "    \n",
    "instance = '4'\n",
    "seed = mediana[instance][0]*308\n",
    "parameters = ' -i ' + instance + ' --seed ' + str(seed) + ' ' + configuraciones[0]\n",
    "hv, res = exec_algorithm(parameters, returnData=True, timeout=10)\n",
    "    \n",
    "\n",
    "# for i,p in enumerate(configuraciones):\n",
    "#         for ejec in range(20):\n",
    "#             seed = str(ejec*308)\n",
    "            \n",
    "#             # Extra whitespace around options is important!\n",
    "#             parameters = ' -i ' + instance + ' --seed ' + seed + ' ' + p\n",
    "\n",
    "#             ini = time.time()\n",
    "#             hv, res = exec_algorithm(parameters, returnData=True, timeout=10)\n",
    "#             fin = time.time()\n",
    "            \n",
    "#             testPerformance[i]['hv'].append(hv)\n",
    "#             testPerformance[i]['res'].append(res)\n",
    "#             testPerformance[i]['time'].append(fin - ini)\n",
    "            \n",
    "#             finish = ['ok','fail'][res == -1]\n",
    "            \n",
    "#             linea = str(i) + ' ' + str(ejec) + ' ' + str(hv) + ' ' + str(fin - ini) + ' ' + finish + '\\n'\n",
    "#             with open(output + '.txt', 'a') as file:\n",
    "#                 file.write(linea)\n",
    "                \n",
    "#             with open(output+'.pkl', 'wb') as f:  \n",
    "#                 pickle.dump(testPerformance, f)\n",
    "#                 f.close()\n",
    "            \n",
    "#             print(linea)"
   ]
  }
 ],
 "metadata": {
  "kernelspec": {
   "display_name": "rapids-pymoo",
   "language": "python",
   "name": "python3"
  },
  "language_info": {
   "codemirror_mode": {
    "name": "ipython",
    "version": 3
   },
   "file_extension": ".py",
   "mimetype": "text/x-python",
   "name": "python",
   "nbconvert_exporter": "python",
   "pygments_lexer": "ipython3",
   "version": "3.10.12"
  }
 },
 "nbformat": 4,
 "nbformat_minor": 2
}
