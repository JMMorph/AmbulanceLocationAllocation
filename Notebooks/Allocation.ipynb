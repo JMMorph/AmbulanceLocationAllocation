{
 "cells": [
  {
   "cell_type": "code",
   "execution_count": 2,
   "metadata": {},
   "outputs": [],
   "source": [
    "# Bibliotecas de uso general en el cuaderno\n",
    "import numpy as np\n",
    "from myutils import *\n",
    "import pickle\n",
    "import os\n",
    "from matching.games import HospitalResident\n"
   ]
  },
  {
   "cell_type": "code",
   "execution_count": 3,
   "metadata": {},
   "outputs": [],
   "source": [
    "path = '../GeoData/Instances/Instance_0.pkl'\n",
    "\n",
    "with open(path, 'rb') as f:\n",
    "    instance = pickle.load(f) \n",
    "    f.close()"
   ]
  },
  {
   "cell_type": "code",
   "execution_count": 4,
   "metadata": {},
   "outputs": [],
   "source": [
    "for k in instance.keys():\n",
    "    exec(f\"{k} = instance['{k}']\")"
   ]
  },
  {
   "cell_type": "markdown",
   "metadata": {},
   "source": [
    "# Proceso de asignación\n",
    "\n",
    "En este cuaderno se mustra un ejemplo de los procesos de asignación propuestos. El proceso de asignación consiste en determinar qué base atenderá a cada foco te atención. Para poder realizar la asignación en este problema, se necesitan tener la siguiente información:\n",
    "\n",
    "* matriz de costos `costs`: en donde cada fila representa una base y cada columna un punto de demanda, el valor que contiene en cada celda representa el costo de ir de la base $i$ al punto $j$. Esta matriz es de dimensiones $m\\times n$.\n",
    "\n",
    "* vector solución `z`: es un vector binario de $m$ elementos, en donde cada elemento representa una de las bases, y están marcadas con $1$ todas aquellas que están disponibles en esa solución y con $0$ las que no. En un proceso de búsqueda este vector puede contener bases disponibles que al final del proceso de asignación descartadas, por lo que el proceso de asignación también es un proceso de corrección.\n",
    "\n",
    "* vector de capacidades `cap`: es un vector de $m$ elementos en donde el elemento $i$ correpsonde a la base $i$ (el mismo elemento en el vector solución) y contiene la capacidad de cada base, es decir, cuántas ambulancias puede almacenar. Por conveniencia, está escalado al número mínimo de ambulancias indispensables por base, es decir, si una base puede acontener 6 ambulancias, pero se define que una base puede cubrir un punto de demanda con mínimo 3 ambulancias, entonces la capacidad en escala sería de 2, ya que sólo puede atender a 2 puntos de demanda.\n",
    "\n",
    "El resultado del proceso de asignación son dos variables:\n",
    "\n",
    "* vector solución corregido `z_r`: el vector binario en donde se marca únicamente las bases que cubren a un punto de demanda, puede tener igual o menor cantidad de $1$ que `z`.\n",
    "\n",
    "* vector de asignación `a`: vector de enteros de $n$ elementos, en donde cada uno representa un punto de demanda y contiene el índice de la base que lo cubre, es decir, puede ir de $0$ a $m-1$.\n",
    "\n",
    "La mayoría de procesos de asignación consideran en algún momento la base más cercana, por lo que el primer paso consiste en encontrar las bases más cercanas disponibles a cada punto de demanda. EN este cuaderno se ejemplifican los diferentes procesos de asignación con un ejemplo pequeño, en donde se considera una matríz de costos `costs` con 7 bases y 5 puntos de demanda (`m=7`,`n=5`), y una solución en donde sólo hay 3 bases disponibles para asignar (`z=[1,0,1,0,1,0,1]`). El vector de capacidades `cap` se propondrá posteriormente. "
   ]
  },
  {
   "cell_type": "code",
   "execution_count": 5,
   "metadata": {},
   "outputs": [],
   "source": [
    "costs = np.array([  [ 4,87, 6,10,42],\n",
    "                    [12, 2,32,43,51],\n",
    "                    [ 5,47, 3,82, 1],\n",
    "                    [31,12,37,41,25],\n",
    "                    [52, 4,31,22,11],\n",
    "                    [16,89,54,67,45],\n",
    "                    [99,98,97,96,95]])\n",
    "\n",
    "z = [1,0,1,0,1,0,1]"
   ]
  },
  {
   "cell_type": "markdown",
   "metadata": {},
   "source": [
    "## Asignación al más cercano disponible\n",
    "\n",
    "En el primer tipo de asignación se ordenan las bases para cada punto de demanda y se asignan a la base más cercana, sin embarrgo, dado que tienen una capacidad límite, se descartan las bases ocupadas. Esto significa que sí afecta el orden en el que se asignan las bases a los puntos de demanda ya que este define cuáles puntos de demanda son atendidos por su base más cercana y cuáles deben optar por la segunda, tercera, cuarta, etc. Por conveniencia se asignan según su posición en la matriz de costos."
   ]
  },
  {
   "cell_type": "code",
   "execution_count": 6,
   "metadata": {},
   "outputs": [
    {
     "name": "stdout",
     "output_type": "stream",
     "text": [
      "---------- Costos ----------\n",
      "[[ 4 87  6 10 42]\n",
      " [12  2 32 43 51]\n",
      " [ 5 47  3 82  1]\n",
      " [31 12 37 41 25]\n",
      " [52  4 31 22 11]\n",
      " [16 89 54 67 45]\n",
      " [99 98 97 96 95]]\n",
      "---------- Indices de las bases disponibles ----------\n",
      "[0 2 4 6]\n",
      "---------- Costos de las bases disponibles ----------\n",
      "[[ 4 87  6 10 42]\n",
      " [ 5 47  3 82  1]\n",
      " [52  4 31 22 11]\n",
      " [99 98 97 96 95]]\n",
      "---------- índices relativos de las bases ordenadas por costo ----------\n",
      "[[0 2 1 0 1]\n",
      " [1 1 0 2 2]\n",
      " [2 0 2 1 0]\n",
      " [3 3 3 3 3]]\n",
      "---------- indices absolutos de las bases ordenadas por costo ----------\n",
      "[[0 4 2 0 2]\n",
      " [2 2 0 4 4]\n",
      " [4 0 4 2 0]\n",
      " [6 6 6 6 6]]\n"
     ]
    }
   ],
   "source": [
    "# Indices de las bases marcadas con 1\n",
    "indices_bases = np.nonzero(z*1)[0]  \n",
    "\n",
    "# Para cada punto de demanda (columna) ordenar las bases por costo,\n",
    "# es decir, mueve las filas, arriba las bases menos costosas por cada punto de demanda\n",
    "columnas = np.argsort(costs[indices_bases], axis = 0)\n",
    "\n",
    "# Obtener las bases más cercanas a cada colapso\n",
    "nearest_base = indices_bases[columnas]\n",
    "\n",
    "print('-'*10, 'Costos', '-'*10)\n",
    "print(costs)\n",
    "print('-'*10, 'Indices de las bases disponibles', '-'*10)\n",
    "print(indices_bases)\n",
    "print('-'*10, 'Costos de las bases disponibles', '-'*10)\n",
    "print(costs[indices_bases])\n",
    "print('-'*10, 'índices relativos de las bases ordenadas por costo', '-'*10)\n",
    "print(columnas)\n",
    "print('-'*10, 'indices absolutos de las bases ordenadas por costo', '-'*10)\n",
    "print(nearest_base)\n",
    "\n"
   ]
  },
  {
   "cell_type": "markdown",
   "metadata": {},
   "source": [
    "Con la matriz de costos `mat` y la matriz resultante `nearest` (última matriz mostrada), se puede observar que para el primer punto de demanda (columna `[0,2,4]`), las bases disponibles se encuentran en orden de cercanía, la base 0 está a 4 unidades, la base 2 a 5 unidades y la base 4 a 52 unidades. Por otro lado, para el segundo punto de demanda (columna `[4,2,0]`), la base 4 está a 4 unidades, la base 2 está a 47 unidades y la base 0 está a 87 unidades. Con esto se comprueba que el primer procedimiento es correcto y que ahora se sabe cuál de las bases disponibles en el vector $z$ está más cerca de cada punto de demanda y el resto de bases están ordenadas de la más cercana a la más lejana. Este orden de la base màs cercana a la màs lejana tambièn se puede interpretar como una lsita de preferencia, en donde cada punto de demanda prefiere a las bases màs cercanas en ese orden.\n",
    "\n",
    "Para esta asignación, consideremos un vector de capacidades `cap = [1,2,2,5,2,3,4]`, nótese que esto representa que la base con índice $0$ puede atender a 1 punto de demanda, la base $1$ a $2$ y así sicesivamente... La capacidad real en número de ambulancias sería `[3,6,6,15,6,9,12]`"
   ]
  },
  {
   "cell_type": "code",
   "execution_count": 7,
   "metadata": {},
   "outputs": [],
   "source": [
    "# Defnie las capacidades de las bases\n",
    "cap1 = [1,2,2,5,2,3,4]\n",
    "\n",
    "a1 = [-1 for _ in range(costs.shape[1])]"
   ]
  },
  {
   "cell_type": "markdown",
   "metadata": {},
   "source": [
    "Este tipo de asignación consiste en tomar los puntos de demanda en un orden arbitrario o aleatorio y asignarlos a la base más cercana; conforme las bases se van ocupando, los puntos van siendo asignados a su segunda base más cercana, tercera, cuarta, etc, por lo que no se garantiza una asignación óptima.\n",
    "\n",
    "El caso ideal en el que todos los puntos de demanda pueden ser cubiertos por su base más cercana (la primera en su lista de preferencia) sería que el vector de asignación `a1` tomara el valor de la primera fila de la matriz `nearest`, es decir: `[0,4,2,0,2]`; sin embargo, se observa que en el vector de capacidades, la base $0$ sólo puede atender a un punto de demanda, que es el $0$, el punto de demanda $3$ es asignado a la base $4$ y el resto sí son cubiertos por su base más cercana."
   ]
  },
  {
   "cell_type": "code",
   "execution_count": 8,
   "metadata": {},
   "outputs": [
    {
     "name": "stdout",
     "output_type": "stream",
     "text": [
      "---------- Asignación de colapsos a bases ----------\n",
      "a1 =  [0, 4, 2, 4, 2]\n",
      "---------- Capacidades restantes de las bases ----------\n",
      "cap =  [0, 2, 0, 5, 0, 3, 4]\n",
      "---------- Solución reparada ----------\n",
      "z1 =  [1. 0. 1. 0. 1. 0. 0.]\n"
     ]
    }
   ],
   "source": [
    "# Por cada punto de demanda, identifica la más cercana disponible\n",
    "for j in range(nearest_base.shape[1]):\n",
    "    \n",
    "    # Recorre las bases (columnas)\n",
    "    for i in range(nearest_base.shape[0]):\n",
    "        \n",
    "        # Si la base en la posición [j] tiene capacidad para atender el punto i, \n",
    "        # se asigna y se descuenta del vector de capacidades\n",
    "        if cap1[nearest_base[i][j]] > 0:\n",
    "            cap1[nearest_base[i][j]] -= 1\n",
    "            a1[j] = nearest_base[i][j]\n",
    "            \n",
    "            # Se procede al siguiente punto de demanda\n",
    "            break\n",
    "        \n",
    "        # Si no hay capacidad, se procede a la siguiente base\n",
    "        else:\n",
    "            continue\n",
    "    \n",
    "    # Si no se pudo asignar ninguna base, se termina el ciclo con error\n",
    "    if a1[j] == -1:\n",
    "        print('Error, no hay bases disponibles para atender el punto de demanda', j)\n",
    "        break\n",
    "\n",
    "# Vector de solución reparado:\n",
    "z1 = np.zeros(costs.shape[0])\n",
    "z1[a1] = 1\n",
    "\n",
    "print('-'*10, 'Asignación de colapsos a bases', '-'*10)\n",
    "print('a1 = ',a1)\n",
    "print('-'*10, 'Capacidades restantes de las bases', '-'*10)\n",
    "print('cap = ',cap1)\n",
    "print('-'*10, 'Solución reparada', '-'*10)\n",
    "print('z1 = ',z1)"
   ]
  },
  {
   "cell_type": "code",
   "execution_count": 9,
   "metadata": {},
   "outputs": [],
   "source": [
    "a = np.zeros(5)\n",
    "a[[1,2,1]] = 1"
   ]
  },
  {
   "cell_type": "markdown",
   "metadata": {},
   "source": [
    "Finalmente, se puede observar que en el proceso de asignación, no todas las bases disponibles del vector Z fueron asignadas, por lo que también se reparó y se obtuvo `z1`."
   ]
  },
  {
   "cell_type": "markdown",
   "metadata": {},
   "source": [
    "## Asignación por nivel de prioridad\n",
    "\n",
    "Una propuesta realizada por Ghoseiri y Ghannadpour es determinar el orden de asignación por nivel de prioridad, en lugar de ser un orden arbitrario o aleatorio. Una forma de calcular las prioridades es con la diferencia entre la segunda base más cercana y la primera, por lo que el procedimiento requiere un paso extra de ordenamiento"
   ]
  },
  {
   "cell_type": "code",
   "execution_count": 10,
   "metadata": {},
   "outputs": [],
   "source": [
    "# Obtiene la matriz de costos ordenada por costo por cada punto de demanda\n",
    "# a diferencia de la otra matriz, no contiene el ìndice si no el valor\n",
    "nearest_base_value = np.sort(costs[indices_bases], axis=0)\n",
    "\n",
    "# Calculas las prioridades de los puntos de demanda\n",
    "priorities = nearest_base_value[1] - nearest_base_value[0]\n",
    "\n",
    "new_indices = np.argsort(priorities)[::-1]"
   ]
  },
  {
   "cell_type": "code",
   "execution_count": 11,
   "metadata": {},
   "outputs": [],
   "source": [
    "cap2 = [1,2,2,5,2,3,4]\n",
    "\n",
    "a2 = [-1 for _ in range(costs.shape[1])]"
   ]
  },
  {
   "cell_type": "code",
   "execution_count": 12,
   "metadata": {},
   "outputs": [
    {
     "name": "stdout",
     "output_type": "stream",
     "text": [
      "---------- Asignación de colapsos a bases ----------\n",
      "a2 =  [4, 4, 2, 0, 2]\n",
      "---------- Capacidades restantes de las bases ----------\n",
      "cap =  [0, 2, 0, 5, 0, 3, 4]\n",
      "---------- Solución reparada ----------\n",
      "z2 =  [1. 0. 1. 0. 1. 0. 0.]\n"
     ]
    }
   ],
   "source": [
    "# Por cada punto de demanda, identifica la más cercana disponible\n",
    "for j in new_indices:\n",
    "    \n",
    "    # Recorre las bases (columnas)\n",
    "    for i in range(nearest_base.shape[0]):\n",
    "        \n",
    "        # Si la base en la posición [j] tiene capacidad para atender el punto i, \n",
    "        # se asigna y se descuenta del vector de capacidades\n",
    "        if cap2[nearest_base[i][j]] > 0:\n",
    "            cap2[nearest_base[i][j]] -= 1\n",
    "            a2[j] = nearest_base[i][j]\n",
    "            \n",
    "            # Se procede al siguiente punto de demanda\n",
    "            break\n",
    "        \n",
    "        # Si no hay capacidad, se procede a la siguiente base\n",
    "        else:\n",
    "            continue\n",
    "    \n",
    "    # Si no se pudo asignar ninguna base, se termina el ciclo con error\n",
    "    if a2[j] == -1:\n",
    "        print('Error, no hay bases disponibles para atender el punto de demanda', j)\n",
    "        break\n",
    "\n",
    "# Vector de solución reparado:\n",
    "z2 = np.zeros(costs.shape[0])\n",
    "z2[a2] = 1\n",
    "\n",
    "print('-'*10, 'Asignación de colapsos a bases', '-'*10)\n",
    "print('a2 = ',a2)\n",
    "print('-'*10, 'Capacidades restantes de las bases', '-'*10)\n",
    "print('cap = ',cap2)\n",
    "print('-'*10, 'Solución reparada', '-'*10)\n",
    "print('z2 = ',z2)"
   ]
  },
  {
   "cell_type": "markdown",
   "metadata": {},
   "source": [
    "## Asignación por emparejamiento estable\n",
    "### Modelo Hospital-resitentes con capadidad\n",
    "\n",
    "En el modelo de asignación anterior, se toma como factor ùnico la lista de preferencia de los puntos de demanda (columnas de la matriz `nearest`) . Por otro lado, el modelo de asignación por emparejamiento considera también una lista de preferencia por parte de las bases, la cuales prefieren cubrir a los puntos de demanda más cercanos. En este modelo se usa el algoritmo de Galey-Shapley modificado para crear un agrupamiento basado en preferencia mutua con capacidades limitadas.\n",
    "\n",
    "En este ejmplo se define de nuevo la capacidad y un vector de asignación nuevo"
   ]
  },
  {
   "cell_type": "code",
   "execution_count": 13,
   "metadata": {},
   "outputs": [],
   "source": [
    "# Defnie las capacidades de las bases\n",
    "cap3 = [1,2,2,5,2,3,4]\n",
    "\n",
    "a3 = [-1 for _ in range(costs.shape[1])]"
   ]
  },
  {
   "cell_type": "markdown",
   "metadata": {},
   "source": [
    "Las preferencias de los puntos de demanda se pueden obtener de las columnas de la matriz `nearest`, y para las preferencias de las bases se obtienen las filas ordenadas de la matriz de costos con las bases disponibles. \n",
    "\n",
    "Para realizar el emparejamiento se usa la biblioteca \"Matching\", por lo que se definene las lsitas de preferencias y capacidades en términos de diccionarios, en donde las claves son los índices de las bases y los puntos de demanda en la matríz de costos."
   ]
  },
  {
   "cell_type": "code",
   "execution_count": 14,
   "metadata": {},
   "outputs": [],
   "source": [
    "# Para cada base (fila) ordenar los puntos de demanda por costo,\n",
    "# es decir, mueve las columnas, a la izquierda los colapsos menos costosos por cada base\n",
    "filas = np.argsort(costs[indices_bases], axis = 1)\n",
    "\n",
    "# Obtener los colapsos más cercanos a cada base\n",
    "nearest_point = filas\n",
    "\n",
    "# Cada punto prefeire una base en este orden:\n",
    "pref_points = dict([(i, col) for i,col in enumerate(nearest_base.T)])\n",
    "\n",
    "# Cada base prefiere un punto en este orden:\n",
    "pref_base = dict([(indices_bases[i], row) for i,row in enumerate(nearest_point)])\n",
    "\n",
    "# Cada base tiene una capacidad\n",
    "base_capacity = dict([(i, cap3[i]) for i in indices_bases])"
   ]
  },
  {
   "cell_type": "markdown",
   "metadata": {},
   "source": [
    "Se crea el modelo Residente a partir de los diccionarios y se utiliza el mètodo solve. Del resultado se puede obtener el vector de asignación y en caso de haber, los puntos de demanda no emparejados (no cubiertos por ninguna base)"
   ]
  },
  {
   "cell_type": "code",
   "execution_count": 15,
   "metadata": {},
   "outputs": [
    {
     "name": "stdout",
     "output_type": "stream",
     "text": [
      "{0: [0], 2: [4, 2], 4: [1, 3], 6: []}\n"
     ]
    }
   ],
   "source": [
    "game = HospitalResident.create_from_dictionaries(\n",
    "    pref_points, pref_base, base_capacity\n",
    ")\n",
    "\n",
    "solution = game.solve(optimal=\"resident\")\n",
    "print(solution)"
   ]
  },
  {
   "cell_type": "code",
   "execution_count": 16,
   "metadata": {},
   "outputs": [
    {
     "name": "stdout",
     "output_type": "stream",
     "text": [
      "---------- Asignación de colapsos a bases ----------\n",
      "a3 =  [0, 4, 2, 4, 2]\n",
      "---------- Capacidades restantes de las bases ----------\n",
      "cap =  [0, 2, 0, 5, 0, 3, 4]\n",
      "---------- Solución reparada ----------\n",
      "z3 =  [1. 0. 1. 0. 1. 0. 0.]\n"
     ]
    }
   ],
   "source": [
    "# llena el vector de asignación\n",
    "for b in solution.keys():\n",
    "    for p in solution[b]:\n",
    "        a3[p.name] = b.name\n",
    "        cap3[b.name] -= 1\n",
    "\n",
    "# Identifica los colapsos no asignados\n",
    "matched = [i.name for j in solution.values() for i in j]\n",
    "unmatched = set(range(costs.shape[1])) - set(matched)\n",
    "\n",
    "# Vector de solución reparado:\n",
    "z3 = np.zeros(costs.shape[0])\n",
    "z3[a3] = 1\n",
    "\n",
    "print('-'*10, 'Asignación de colapsos a bases', '-'*10)\n",
    "print('a3 = ',a3)\n",
    "print('-'*10, 'Capacidades restantes de las bases', '-'*10)\n",
    "print('cap = ',cap3)\n",
    "print('-'*10, 'Solución reparada', '-'*10)\n",
    "print('z3 = ',z3)"
   ]
  },
  {
   "cell_type": "markdown",
   "metadata": {},
   "source": [
    "# Prueba en escenario real\n",
    "\n",
    "Se implementa la función de asignacióncon parámetros: matríz de costos, vector de capacidades, vector de solución y tipo de asignación. Se prueba su funcionamiento con un conjunto de puntos aleatorios en el espaico euclideo y en una instancia del problema de optimización."
   ]
  },
  {
   "cell_type": "code",
   "execution_count": 813,
   "metadata": {},
   "outputs": [],
   "source": [
    "def assign(costs, capacities, demands, sol, type='classic'):\n",
    "    \n",
    "    cap = capacities.copy()\n",
    "    dem = demands.copy()\n",
    "    z = copy(sol)\n",
    "    # Indices de las bases marcadas con 1\n",
    "    indices_bases = np.nonzero(z*1)[0]  \n",
    "\n",
    "    # Para cada punto de demanda (columna) ordenar las bases por costo,\n",
    "    # es decir, mueve las filas, arriba las bases menos costosas por cada punto de demanda\n",
    "    columnas = np.argsort(costs[indices_bases], axis = 0)\n",
    "\n",
    "    # Obtener las bases más cercanas a cada colapso\n",
    "    nearest_base = indices_bases[columnas]\n",
    "    \n",
    "    a = [-1 for _ in range(costs.shape[1])]\n",
    "    \n",
    "    if type == 'classic':\n",
    "        \n",
    "        # Por cada punto de demanda, identifica la más cercana disponible\n",
    "        for j in range(nearest_base.shape[1]):\n",
    "            \n",
    "            # Recorre las bases (columnas)\n",
    "            for i in range(nearest_base.shape[0]):\n",
    "                \n",
    "                # Si la base en la posición [j] tiene capacidad para atender el punto i, \n",
    "                # se asigna y se descuenta del vector de capacidades\n",
    "                if cap[nearest_base[i][j]] >= dem[j]:\n",
    "                    cap[nearest_base[i][j]] -= dem[j]\n",
    "                    a[j] = nearest_base[i][j]\n",
    "                    \n",
    "                    # Se procede al siguiente punto de demanda\n",
    "                    break\n",
    "                \n",
    "                # Si no hay capacidad, se procede a la siguiente base\n",
    "                else:\n",
    "                    continue\n",
    "        \n",
    "            '''\n",
    "            # Si no se pudo asignar ninguna base, se termina el ciclo con error\n",
    "            if a[j] == -1:\n",
    "                print('Error, no hay bases disponibles para atender el punto de demanda', j)\n",
    "                return -1\n",
    "            '''\n",
    "           \n",
    "        \n",
    "    elif type == 'urgencies':\n",
    "        \n",
    "        # Obtiene la matriz de costos ordenada por costo por cada punto de demanda\n",
    "        # a diferencia de la otra matriz, no contiene el ìndice si no el valor\n",
    "        nearest_base_value = np.sort(costs[indices_bases], axis=0)\n",
    "\n",
    "        # Calculas las prioridades de los puntos de demanda\n",
    "        priorities = nearest_base_value[1] - nearest_base_value[0]\n",
    "\n",
    "        new_indices = np.argsort(priorities)[::-1]\n",
    "        \n",
    "        # Por cada punto de demanda, identifica la más cercana disponible\n",
    "        for j in new_indices:\n",
    "            \n",
    "            # Recorre las bases (columnas)\n",
    "            for i in range(nearest_base.shape[0]):\n",
    "                \n",
    "                # Si la base en la posición [j] tiene capacidad para atender el punto i, \n",
    "                # se asigna y se descuenta del vector de capacidades\n",
    "                if cap[nearest_base[i][j]] >= dem[j]:\n",
    "                    cap[nearest_base[i][j]] -= dem[j]\n",
    "                    a[j] = nearest_base[i][j]\n",
    "                    \n",
    "                    # Se procede al siguiente punto de demanda\n",
    "                    break\n",
    "                \n",
    "                # Si no hay capacidad, se procede a la siguiente base\n",
    "                else:\n",
    "                    continue\n",
    "            \n",
    "            '''\n",
    "            # Si no se pudo asignar ninguna base, se termina el ciclo con error\n",
    "            if a[j] == -1:\n",
    "                print('Error, no hay bases disponibles para atender el punto de demanda', j)\n",
    "                return -1\n",
    "            '''\n",
    "    \n",
    "    elif type == 'urgencies_cap':\n",
    "        \n",
    "        # Obtiene la matriz de costos ordenada por costo por cada punto de demanda\n",
    "        # a diferencia de la otra matriz, no contiene el ìndice si no el valor\n",
    "        nearest_base_value = np.sort(costs[indices_bases], axis=0)\n",
    "\n",
    "        # Calculas las prioridades de los puntos de demanda\n",
    "        priorities = nearest_base_value[1] - nearest_base_value[0]\n",
    "\n",
    "    \n",
    "        \n",
    "        new_indices = np.argsort(dem)[::-1]\n",
    "        \n",
    "        new_indices = np.lexsort((priorities, dem))[::-1]\n",
    "\n",
    "        \n",
    "        # Por cada punto de demanda, identifica la más cercana disponible\n",
    "        for j in new_indices:\n",
    "            \n",
    "            # Recorre las bases (columnas)\n",
    "            for i in range(nearest_base.shape[0]):\n",
    "                \n",
    "                # Si la base en la posición [j] tiene capacidad para atender el punto i, \n",
    "                # se asigna y se descuenta del vector de capacidades\n",
    "                if cap[nearest_base[i][j]] >= dem[j]:\n",
    "                    cap[nearest_base[i][j]] -= dem[j]\n",
    "                    a[j] = nearest_base[i][j]\n",
    "                    \n",
    "                    # Se procede al siguiente punto de demanda\n",
    "                    break\n",
    "                \n",
    "                # Si no hay capacidad, se procede a la siguiente base\n",
    "                else:\n",
    "                    continue\n",
    "            \n",
    "            '''\n",
    "            # Si no se pudo asignar ninguna base, se termina el ciclo con error\n",
    "            if a[j] == -1:\n",
    "                print('Error, no hay bases disponibles para atender el punto de demanda', j)\n",
    "                return -1\n",
    "            '''\n",
    "        \n",
    "    \n",
    "    c = 0\n",
    "\n",
    "    # Verifica que todos los puntos de demanda hayan sido asignados\n",
    "    for point, base in enumerate(a):\n",
    "        \n",
    "        # Si para un punto de demanda no se asignó base, se habilita la base\n",
    "        # más cercana disponible\n",
    "        \n",
    "        if base == -1:\n",
    "            \n",
    "            bases_to_point = costs[:,point]\n",
    "            nearest_base = np.argsort(bases_to_point)\n",
    "            \n",
    "            for b in nearest_base:\n",
    "                if cap[b] >= dem[point]:\n",
    "                    cap[b] -= dem[point]\n",
    "                    a[point] = b\n",
    "                    z[b] = 1\n",
    "                    break\n",
    "           \n",
    "        c += costs[base, point]\n",
    "    \n",
    "    # Vector de solución reparado:\n",
    "    z = np.zeros(costs.shape[0])\n",
    "    z[a] = 1\n",
    "    \n",
    "    return a, z, round(c,2)\n",
    "        "
   ]
  },
  {
   "cell_type": "code",
   "execution_count": 844,
   "metadata": {},
   "outputs": [],
   "source": [
    "# 6649151895\n",
    "rndGen = np.random.default_rng(seed=6649151895)\n",
    "\n",
    "bases = rndGen.uniform(0, 10, size=(2000, 2))\n",
    "\n",
    "destinos = rndGen.uniform(0, 10, size=(14, 2))\n",
    "\n",
    "costs = np.zeros((bases.shape[0], destinos.shape[0]))\n",
    "\n",
    "for i in range(bases.shape[0]):\n",
    "    for j in range(destinos.shape[0]):\n",
    "        costs[i,j] = np.linalg.norm(bases[i] - destinos[j])\n",
    "\n",
    "costs = costs.round(4)\n",
    "capacities = rndGen.integers(1, 15, size=bases.shape[0])\n",
    "demands = rndGen.integers(1, 5, size=costs.shape[1])"
   ]
  },
  {
   "cell_type": "code",
   "execution_count": 845,
   "metadata": {},
   "outputs": [],
   "source": [
    "# 14787\n",
    "rndGen = np.random.default_rng(seed=14787)\n",
    "ind = rndGen.choice(bases.shape[0], size=7, replace=False)\n",
    "z = np.zeros(costs.shape[0])\n",
    "z[ind] = 1\n"
   ]
  },
  {
   "cell_type": "code",
   "execution_count": 846,
   "metadata": {},
   "outputs": [],
   "source": [
    "a1, z1, c1 = assign(costs, capacities, demands, z, type='classic')\n",
    "a2, z2, c2 = assign(costs, capacities, demands, z, type='urgencies')\n",
    "a3, z3, c3 = assign(costs, capacities, demands, z, type='urgencies_cap')"
   ]
  },
  {
   "cell_type": "code",
   "execution_count": 847,
   "metadata": {},
   "outputs": [
    {
     "data": {
      "image/png": "[encoded data removed]",
      "text/plain": [
       "<Figure size 1500x500 with 3 Axes>"
      ]
     },
     "metadata": {},
     "output_type": "display_data"
    }
   ],
   "source": [
    "import matplotlib.pyplot as plt\n",
    "import matplotlib as mpl\n",
    "\n",
    "fig, axes= plt.subplots(1, 3, figsize=(15,5))\n",
    "fig.suptitle('Métodos de asignación', fontsize=16)\n",
    "mult = 70\n",
    "metodos = ['Clásico', 'Basado en urgencias', 'Basado en demanda']\n",
    "\n",
    "for i, ax in enumerate(axes):\n",
    "\n",
    "    # Bases asignadas\n",
    "    ind_z = np.nonzero([z1, z2, z3][i])[0]\n",
    "    \n",
    "    # Vector de asignación\n",
    "    a = [a1, a2, a3][i]\n",
    "    \n",
    "    # Colores\n",
    "    cmap = mpl.colormaps['viridis']\n",
    "    \n",
    "    dict_color = dict([(ind_z[j], cmap(j/len(ind_z))) for j in range(len(ind_z))])\n",
    "    # Espacio de búsuqeda completo\n",
    "    #ax.scatter(bases[:,0], bases[:,1], marker='^', label='Bases', edgecolors='k', c='w', s=capacities, alpha=0.1)\n",
    "    \n",
    "    # Solución posible con las bases disponibles\n",
    "    bd = ax.scatter(bases[ind,0], bases[ind,1], marker='s', label='z', \n",
    "                edgecolors='k', c='w', s=capacities[ind]*mult)\n",
    "\n",
    "    # Solución reparada con la asignación\n",
    "    base_color = [dict_color[ind_z[j]] for j in range(len(ind_z))]\n",
    "    bs = ax.scatter(bases[ind_z,0], bases[ind_z,1], marker='s', label='z', \n",
    "                edgecolors=(0,0,0,0), color = base_color , s=capacities[ind_z]*mult, zorder = 1)\n",
    "\n",
    "    # Puntos de demanda\n",
    "    pd_color = [dict_color[a[j]] for j in range(len(a))]\n",
    "    pd = ax.scatter(destinos[:,0], destinos[:,1], marker='o', label='Puntos de demanda', \n",
    "                color = pd_color, s = 200)\n",
    "\n",
    "    # Texto de las capacidades\n",
    "    for j,b in enumerate(bases[ind_z,:]):\n",
    "        ax.text(b[0], b[1], capacities[ind_z[j]], fontsize=12, c='w', ha = 'center', va='center')\n",
    "    \n",
    "    # Texto de los puntos de demanda\n",
    "    for j,d in enumerate(destinos):\n",
    "        ax.text(d[0], d[1], demands[j], fontsize=10, c='w', ha = 'center', va='center', zorder = 3)\n",
    "    \n",
    "    # Líneas de conexión\n",
    "    for point, base in enumerate([a1, a2, a3][i]):\n",
    "        if point != -1:\n",
    "            ax.plot([bases[base,0], destinos[point,0]], [bases[base,1], destinos[point,1]], '-',\n",
    "                    c = dict_color[base], lw = 2, zorder = 0)\n",
    "    \n",
    "    ax.set_xticks([])\n",
    "    ax.set_yticks([])\n",
    "    \n",
    "    ax.set_xlim(-0.5, 10.5)\n",
    "    ax.set_ylim(-0.5, 10.5)\n",
    "    ax.set_aspect('equal')\n",
    "            \n",
    "    ax.title.set_text(metodos[i] + ': ' + str([c1, c2, c3][i]) + '/' + str(int(sum([z1, z2, z3][i]))))\n",
    "    ax.title.set_fontsize(14)\n",
    "    \n",
    "    if i == 0:\n",
    "        ax.legend([bd, bs, pd], ['Bases descartadas','Bases asignadas', 'Puntos de demanda'], \n",
    "                  loc=[0.7,-0.15], fontsize=12, framealpha=0, edgecolor='k', ncol=3)\n",
    "    \n",
    "    \n",
    "    fig.savefig('../Figuras/Results/Allocation_1.svg')"
   ]
  },
  {
   "cell_type": "code",
   "execution_count": 848,
   "metadata": {},
   "outputs": [
    {
     "name": "stdout",
     "output_type": "stream",
     "text": [
      "[ 206  934 1276 1737 1747]\n",
      "[934, 1747, 1276, 1747, 206, 1737, 1747, 1737, 206, 206, 206, 206, 934, 1737]\n",
      "{206: (0.267004, 0.004874, 0.329415, 1.0), 934: (0.253935, 0.265254, 0.529983, 1.0), 1276: (0.163625, 0.471133, 0.558148, 1.0), 1737: (0.134692, 0.658636, 0.517649, 1.0), 1747: (0.477504, 0.821444, 0.318195, 1.0)}\n"
     ]
    }
   ],
   "source": [
    "print(ind_z)\n",
    "print(a1)\n",
    "print(dict_color)"
   ]
  }
 ],
 "metadata": {
  "kernelspec": {
   "display_name": "rapids-pymoo",
   "language": "python",
   "name": "python3"
  },
  "language_info": {
   "codemirror_mode": {
    "name": "ipython",
    "version": 3
   },
   "file_extension": ".py",
   "mimetype": "text/x-python",
   "name": "python",
   "nbconvert_exporter": "python",
   "pygments_lexer": "ipython3",
   "version": "3.10.12"
  }
 },
 "nbformat": 4,
 "nbformat_minor": 2
}
