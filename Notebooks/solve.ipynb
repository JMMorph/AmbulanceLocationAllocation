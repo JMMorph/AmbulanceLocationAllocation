{
 "cells": [
  {
   "cell_type": "code",
   "execution_count": null,
   "metadata": {},
   "outputs": [],
   "source": [
    "from myutils import *"
   ]
  },
  {
   "cell_type": "code",
   "execution_count": null,
   "metadata": {},
   "outputs": [],
   "source": [
    "fecha = datetime.datetime(2020, 1, 20)\n",
    "\n",
    "\n",
    "\n",
    "instance_number = 8\n",
    "path = '../GeoData/Instances/Instance_' + str(instance_number) + '.pkl'\n",
    "out = 'Results/Solución_' + str(instance_number)\n",
    "\n",
    "with open(path, 'rb') as f:\n",
    "    instance = pickle.load(f) \n",
    "    f.close()"
   ]
  }
 ],
 "metadata": {
  "language_info": {
   "name": "python"
  }
 },
 "nbformat": 4,
 "nbformat_minor": 2
}
