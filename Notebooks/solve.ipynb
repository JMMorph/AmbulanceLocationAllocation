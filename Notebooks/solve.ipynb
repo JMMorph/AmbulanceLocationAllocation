{
 "cells": [
  {
   "cell_type": "code",
   "execution_count": 16,
   "metadata": {},
   "outputs": [],
   "source": [
    "from joblib import Parallel, delayed\n",
    "from myutils import *\n",
    "from optimize import *"
   ]
  },
  {
   "cell_type": "markdown",
   "metadata": {},
   "source": [
    "## Información del Incidente\n",
    "### Generación de la instancia"
   ]
  },
  {
   "cell_type": "code",
   "execution_count": 17,
   "metadata": {},
   "outputs": [
    {
     "name": "stdout",
     "output_type": "stream",
     "text": [
      "Grafo de transporte, bases candidatas y hospitales cargados\n",
      "Se usan los siguientes archivos de tráfico: \n",
      "2023-12-07 14:16:02\n",
      "2023-12-07 14:33:04\n",
      "2023-11-09 15:01:11\n",
      "2023-11-30 15:01:28\n",
      "2023-12-07 14:44:13\n",
      "2023-11-02 15:01:00\n",
      "2023-12-07 14:26:55\n",
      "2023-12-07 14:08:39\n",
      "2023-11-23 15:01:01\n",
      "2023-12-07 14:20:48\n",
      "2023-10-26 15:01:03\n",
      "2023-11-16 15:01:05\n",
      "Datos de tráfico obtenidos\n",
      "Gráfo con tráfico y aristas bloqueadas creado\n",
      "Rutas calculadas\n",
      "Matriz OD calculada\n",
      "Instancia creada\n",
      "Instancia guardada como:  Results/scenario/InstanciaEjemplo.pkl\n"
     ]
    }
   ],
   "source": [
    "# fecha de inicio del incidente\n",
    "fecha = datetime.datetime(2023, 12, 14)\n",
    "\n",
    "# hora del inicio del incidente\n",
    "hora = datetime.time(14,3)\n",
    "\n",
    "date = datetime.datetime.combine(fecha, hora)\n",
    "\n",
    "# Rutas y nombres de archivos\n",
    "path_source = '../GeoData/'\n",
    "path_scenario = 'Results/scenario/'\n",
    "file_scenario = 'puntosEjemplo.gpkg'\n",
    "layer_scenario = 'puntosDemanda'\n",
    "out = 'InstanciaEjemplo'\n",
    "\n",
    "# Crear instancia\n",
    "instance = get_instance(path_source = path_source, \n",
    "            path_scenario = path_scenario,\n",
    "            file_scenario = file_scenario,\n",
    "            layer_scenario = layer_scenario,\n",
    "            ambulances = 250,\n",
    "            traffic_file = None,\n",
    "            traffic = 'previous',\n",
    "            traffic_history = '../GeoData/Traffic/TrafficDataAuto/',\n",
    "            date = date,\n",
    "            out = out,\n",
    "            saveGraph = False,\n",
    "            saveInstance = True,\n",
    "            verbose = True)"
   ]
  },
  {
   "cell_type": "markdown",
   "metadata": {},
   "source": [
    "### Genera las instrucciones para la ejecuciòn, incluye semillas aleatorias"
   ]
  },
  {
   "cell_type": "code",
   "execution_count": 18,
   "metadata": {},
   "outputs": [],
   "source": [
    "# Número de ejecuciones\n",
    "num_ejecs = 5\n",
    "\n",
    "instance_name = path_scenario + out + '.pkl'\n",
    "\n",
    "# Parámetros del algoritmo\n",
    "conf = '--cr un --mu bf --a ur --rep rm --pop 200 --dec 50 --prob_cr 0.5 --prob_mu 0.25 --prob_ini 0.1'\n",
    "\n",
    "# Semillas\n",
    "np.random.seed(192837465)\n",
    "seeds = np.random.randint(0, 1e6, num_ejecs).astype(str)\n",
    "\n",
    "ejecs = [' -i ' + instance_name + ' --seed ' + seed + ' ' + conf for seed in seeds]\n"
   ]
  },
  {
   "cell_type": "markdown",
   "metadata": {},
   "source": [
    "## Ejecución del algoritmo múltiples veces\n",
    "### Fusiona los frentes de pareto y almacena el resultado"
   ]
  },
  {
   "cell_type": "code",
   "execution_count": null,
   "metadata": {},
   "outputs": [],
   "source": [
    "resultados = Parallel(n_jobs=3)(delayed(exec_algorithm)(e, returnDataProblem=True, timeout=10) for e in ejecs)"
   ]
  },
  {
   "cell_type": "code",
   "execution_count": 21,
   "metadata": {},
   "outputs": [],
   "source": [
    "pf = merge_pareto_fronts(resultados)"
   ]
  },
  {
   "cell_type": "code",
   "execution_count": 22,
   "metadata": {},
   "outputs": [],
   "source": [
    "with open(path_scenario+out+'_results.pkl', 'wb') as f:  \n",
    "        pickle.dump(pf, f)\n",
    "        f.close()"
   ]
  }
 ],
 "metadata": {
  "kernelspec": {
   "display_name": "rapids-pymoo",
   "language": "python",
   "name": "python3"
  },
  "language_info": {
   "codemirror_mode": {
    "name": "ipython",
    "version": 3
   },
   "file_extension": ".py",
   "mimetype": "text/x-python",
   "name": "python",
   "nbconvert_exporter": "python",
   "pygments_lexer": "ipython3",
   "version": "3.10.12"
  }
 },
 "nbformat": 4,
 "nbformat_minor": 2
}
