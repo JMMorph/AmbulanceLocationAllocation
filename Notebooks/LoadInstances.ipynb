{
 "cells": [
  {
   "cell_type": "markdown",
   "metadata": {},
   "source": [
    "# Generación del escenario post desastre"
   ]
  },
  {
   "cell_type": "code",
   "execution_count": 1,
   "metadata": {},
   "outputs": [],
   "source": [
    "# Bibliotecas de uso general en el cuaderno\n",
    "from myutils import *\n",
    "import cugraph\n",
    "import pickle\n",
    "import os"
   ]
  },
  {
   "cell_type": "markdown",
   "metadata": {},
   "source": [
    "## Datos generales (PLTBs y hospitales)"
   ]
  },
  {
   "cell_type": "code",
   "execution_count": 2,
   "metadata": {},
   "outputs": [],
   "source": [
    "# Directorio de datos generales\n",
    "path = \"../GeoData/\"\n",
    "escenario = '0'\n",
    "out = \"../GeoData/Instances/Instance_\" + escenario + \".pkl\""
   ]
  },
  {
   "cell_type": "code",
   "execution_count": 3,
   "metadata": {},
   "outputs": [],
   "source": [
    "# Carga el grafo de la red de transporte de la Ciudad de México\n",
    "g = ox.load_graphml(filepath = path + \"graph_transport.graphml\")\n",
    "gdf_nodes, gdf_edges = ox.graph_to_gdfs(g, nodes=True, edges=True, node_geometry=True, fill_edge_geometry=True)"
   ]
  },
  {
   "cell_type": "code",
   "execution_count": 4,
   "metadata": {},
   "outputs": [
    {
     "name": "stdout",
     "output_type": "stream",
     "text": [
      "Grafo de transporte y PLTBs cargados\n"
     ]
    }
   ],
   "source": [
    "# Carga las pltbs\n",
    "pltbs = gpd.read_file(path + 'PLTBs.gpkg', layer = 'PLTBs_nodes')\n",
    "\n",
    "# Serializa los datos de tipo lista\n",
    "pltbs['streets'] = pltbs['streets'].apply(json.loads)\n",
    "pltbs['oneway'] = pltbs['oneway'].apply(json.loads)\n",
    "pltbs['length'] = pltbs['length'].apply(json.loads)\n",
    "pltbs['capacity'] = pltbs['capacity'].apply(json.loads)\n",
    "pltbs['grouped'] = pltbs['grouped'].apply(json.loads)\n",
    "pltbs_grupos= [item for sublist in [ i for i in pltbs['grouped']] for item in sublist]\n",
    "pltbs_nodos = list(pltbs['node'])\n",
    "\n",
    "print('Grafo de transporte y PLTBs cargados')"
   ]
  },
  {
   "cell_type": "code",
   "execution_count": 5,
   "metadata": {},
   "outputs": [],
   "source": [
    "# Identifica todos los nodos que no se puedne alcanzar desde una PLTB\n",
    "voronoi_pltbs = nx.voronoi_cells(g, pltbs_nodos, weight='weight')\n",
    "unreachable = voronoi_pltbs[\"unreachable\"]\n",
    "del(voronoi_pltbs)\n",
    "\n",
    "# Elimina los nodos que no se pueden alcanzar desde una PLTB\n",
    "g_u = g.copy()\n",
    "g_u.remove_nodes_from(unreachable)"
   ]
  },
  {
   "cell_type": "code",
   "execution_count": 6,
   "metadata": {},
   "outputs": [],
   "source": [
    "# Carga el archivo con la ubicación de los hospitales\n",
    "hospitales = gpd.read_file(path + 'Points.gpkg', layer = 'hospitales')\n",
    "\n",
    "# Identifica hospitales de interés\n",
    "hospitales_viables = hospitales.query(\"camas_en_a > 10\")\n",
    "\n",
    "# Obtiene las coordenadas\n",
    "hospitales_coords = hospitales_viables.get_coordinates()\n",
    "\n",
    "# Obtiene las aristas más cercanas en el grafo de la red de transporte \"g\"\n",
    "aristas_hospitales = list(set(ox.nearest_edges(g_u, hospitales_coords.x, hospitales_coords.y)))\n",
    "\n",
    "# añade las aristas en doble sentido, son las que se van a descartar como PLTBs\n",
    "aristas_hospitales_d = copy(aristas_hospitales)\n",
    "aristas_hospitales_d += [(v,u,k) for u,v,k in aristas_hospitales_d if (v,u,k) in g_u.edges.keys()]\n",
    "\n",
    "# Añade las aristas vecinas también\n",
    "# aristas_hospitales_vec = [(u,v,0) for a in aristas_hospitales_d for u,v in g.edges(a[0]) ]"
   ]
  },
  {
   "cell_type": "markdown",
   "metadata": {},
   "source": [
    "## Datos propios del incidente\n",
    "\n",
    "En esta sección se obtienen datos que varían dependiendo del incidente, como la posición de los puntos de demanda o los datos de tráfico"
   ]
  },
  {
   "cell_type": "code",
   "execution_count": 7,
   "metadata": {},
   "outputs": [],
   "source": [
    "# Carga el archivo con la ubicación de los puntos de atención\n",
    "colapsos = gpd.read_file(path + 'Points_instances.gpkg', layer = 'Instance_' + escenario)\n",
    "\n",
    "# Obtiene las coordenadas\n",
    "colapsos_coords = colapsos.get_coordinates()\n",
    "\n",
    "# Obtiene las aristas más cercanas en el grafo de la red de transporte \"g\", \n",
    "# en este caso es importante mantener el orden, por eso se usa una lista en lugar de un set\n",
    "aristas_colapsos = ox.nearest_edges(g_u, colapsos_coords.x, colapsos_coords.y)\n",
    "\n",
    "# Añade las aristas en doble sentido, son las que se van a bloquear\n",
    "aristas_colapsos_b = list(set(copy(aristas_colapsos)))\n",
    "aristas_colapsos_b += [(v,u,k) for u,v,k in aristas_colapsos_b if (v,u,k) in g_u.edges.keys()]\n",
    "\n",
    "# Las aristas bloqueadsa y sus vecinas también serán descartadas como PLTBs\n",
    "aristas_colapsos_d = copy(aristas_colapsos_b)\n",
    "aristas_colapsos_d += [(u,v,0) for a in aristas_colapsos_d for u,v in g.edges(a[0])]\n",
    "\n",
    "# Elimina el grafo g_u\n",
    "del(g_u)"
   ]
  },
  {
   "cell_type": "markdown",
   "metadata": {},
   "source": [
    "### Lectura de datos de tráfico previamente obtenidos\n",
    "\n",
    "Se lee el archivo .tar con la información de tráfico para cada arista del grafo"
   ]
  },
  {
   "cell_type": "code",
   "execution_count": 8,
   "metadata": {},
   "outputs": [
    {
     "name": "stdout",
     "output_type": "stream",
     "text": [
      "GeoData/Traffic/traffic_flow_16_2023-10-30_13-01-01_traffic_data.tar\n"
     ]
    }
   ],
   "source": [
    "traffic_files = [os.path.join(path + 'Traffic/', file) for file in os.listdir(path + 'Traffic/') if file.endswith(\"_traffic_data.tar\")]\n",
    "traffic_files.sort()\n",
    "print(traffic_files[int(escenario)])\n",
    "traffic_data = pd.read_pickle(traffic_files[int(escenario)])"
   ]
  },
  {
   "cell_type": "markdown",
   "metadata": {},
   "source": [
    "### Alternativamente: obtención de los datos de tráfico al momento en el que se ejecuta la celda\n",
    "\n",
    "En esta celda se carga el polígono y se descargan las teselas necesarias para capturar el tráfico. De manera predeterminada únicamente se almacenan los datos de tráfico como un archivo .tar, pero se pueden cambiar los parámetros para almacenar los pasos interemedios, como geotiff o las teselas independientes como diccionario de python. En caso de querer guardar, también se puede almacenar en RGBA y hacer la conversión a monobanda en el último paso."
   ]
  },
  {
   "cell_type": "code",
   "execution_count": 9,
   "metadata": {},
   "outputs": [],
   "source": [
    "# # Carga el polígono de la ciudad de méxico, aplica un buffer de 100 mts y lo proyecta a WGS84\n",
    "# cdmx = gpd.read_file(path + '/Polygons.gpkg', layer='CDMX', encoding='utf-8')\n",
    "# polygon = cdmx.geometry[0].buffer(100)\n",
    "# cdmx['geometry'] = polygon\n",
    "# cdmx.to_crs(4326, inplace=True)\n",
    "# polygon = cdmx.geometry[0]\n",
    "\n",
    "# # Api key de TomTom\n",
    "# apiKey = '5mcWU77vx9s9EaLyqfw61oyfeoe3MAl8'\n",
    "# zoom = 16\n",
    "# imsize = 512\n",
    "\n",
    "# # Obtiene las teselas\n",
    "# tiles, tiles_data  = await get_traffic_tiles(polygon, zoom, imsize, apiKey, save = False, \n",
    "#                                       saveGeometry = False, path=path + 'Traffic/', rgba=False)\n",
    "\n",
    "# name = tiles_data['name']\n",
    "\n",
    "# # # Las guarda en un archivo de tipo raster\n",
    "# # save_geotif(tiles, tiles_data, path=path + 'Traffic/', name=name)\n",
    "\n",
    "# # Obtiene el tráfico para cada arista según las teselas\n",
    "# traffic_data = get_traffic_data(g, tiles, tiles_data, save = True, path=path + 'Traffic/' , name=name)\n",
    "# del(tiles)\n"
   ]
  },
  {
   "cell_type": "markdown",
   "metadata": {},
   "source": [
    "### Añade la información de tráfico al grafo"
   ]
  },
  {
   "cell_type": "code",
   "execution_count": 10,
   "metadata": {},
   "outputs": [],
   "source": [
    "# Crear una columna con el tráfico en cada arista\n",
    "gdf_edges = gdf_edges.assign(traffic= traffic_data)"
   ]
  },
  {
   "cell_type": "markdown",
   "metadata": {},
   "source": [
    "## Bloqueo de aristas \n",
    "\n",
    "En esta sección se bloquean las aristas del grafo en donde hay un punto de demanda"
   ]
  },
  {
   "cell_type": "code",
   "execution_count": 12,
   "metadata": {},
   "outputs": [
    {
     "name": "stdout",
     "output_type": "stream",
     "text": [
      "Se bloquearon 29 aristas por colapsos\n",
      "Se bloquearon 155 aristas por tráfico\n"
     ]
    }
   ],
   "source": [
    "# Crea una columna para indicar la penalización por bloqueo\n",
    "\n",
    "weight_max = 1e9\n",
    "\n",
    "block = lambda x: 1 if (x[0],x[1],0) in aristas_colapsos_b else 0\n",
    "gdf_edges['blocked'] = gdf_edges.index.to_series().apply(block)\n",
    "\n",
    "bby_colapsos = gdf_edges[\"blocked\"].sum()\n",
    "print(f'Se bloquearon {bby_colapsos} aristas por colapsos')\n",
    "\n",
    "\n",
    "gdf_edges['blocked'] += ((gdf_edges['traffic'] == 5) | (gdf_edges['traffic'] == 6))*1\n",
    "\n",
    "\n",
    "bby_traffic = gdf_edges[\"blocked\"].sum() - bby_colapsos\n",
    "print(f'Se bloquearon {bby_traffic} aristas por tráfico')\n",
    "\n"
   ]
  },
  {
   "cell_type": "code",
   "execution_count": 13,
   "metadata": {},
   "outputs": [],
   "source": [
    "# Pondera las aristas según el tráfico, momentaneamente se asigna un valor de 0 a las aristas bloqueadas\n",
    "map_vel = {1:1, 2: 2, 3: 4, 4: 6.7, 5: 0, 6: 0}\n",
    "gdf_edges['weight'] = gdf_edges.apply(lambda x: x['length'] * map_vel[ x['traffic']], axis=1)\n",
    "\n",
    "# Asigna el paso de todas las aristas bloqueadas a 1e9\n",
    "gdf_edges['weight'] = gdf_edges['weight'] * (1-gdf_edges['blocked']) + weight_max * gdf_edges['blocked']"
   ]
  },
  {
   "cell_type": "markdown",
   "metadata": {},
   "source": [
    "## Descarte de PLTBs"
   ]
  },
  {
   "cell_type": "code",
   "execution_count": 14,
   "metadata": {},
   "outputs": [],
   "source": [
    "# Aristas a descartar como PLTBs por no tener tráfico libre\n",
    "aristas_trafico_d = [(u,v,k) for u,v,k in gdf_edges[gdf_edges['traffic'] > 2].index.to_series()]"
   ]
  },
  {
   "cell_type": "code",
   "execution_count": 15,
   "metadata": {},
   "outputs": [],
   "source": [
    "# Aristas que se deben descartar como PLTBs\n",
    "aristas_a_descartar = list(set(aristas_hospitales_d + aristas_colapsos_d))\n",
    "pltbs_a_descartar = set()\n",
    "\n",
    "for u,v,k in aristas_a_descartar:\n",
    "    \n",
    "    # Si alguno de los nodos está en la lista de PLTBs agrupadas, los nodos head del grupo(s) se agregan a la lista de PLTBs bloqueadas \n",
    "    if u in pltbs_grupos or v in pltbs_grupos:\n",
    "        block = list(pltbs[pltbs.apply( lambda x: u in x['grouped'] or v in x['grouped'], axis = 1)].get('node'))\n",
    "        pltbs_a_descartar = pltbs_a_descartar.union(set(block))\n",
    " \n",
    "    # Descarta pltbs que no tienen sucesores (normalmene en los extremos del bbox)\n",
    "    if len(list(g.successors(u))) == 0:\n",
    "        pltbs_a_descartar.add(u)\n",
    "    if len(list(g.successors(v))) == 0:\n",
    "        pltbs_a_descartar.add(v)\n",
    "        \n",
    "# En el caso del tráfico, se descartan las aristas que no tienen tráfico libre \n",
    "for u,v,k in aristas_trafico_d:\n",
    "    \n",
    "    # Si el nodo v es una PLTB, se agrega a la lista de PLTBs a descartar\n",
    "    if v in pltbs_nodos:\n",
    "        pltbs_a_descartar.add(v)\n",
    "    if u in pltbs_nodos:\n",
    "        pltbs_a_descartar.add(u)"
   ]
  },
  {
   "cell_type": "code",
   "execution_count": 16,
   "metadata": {},
   "outputs": [
    {
     "name": "stdout",
     "output_type": "stream",
     "text": [
      "pltbs que quedan descartadas:\n",
      "(268902400, 30341126, 380231687, 3309034509, 30341135, 30594063, 7960991768, 933696538, 30341146, 933696542, 271534110, 8558343205, 8338268211, 4073763912, 562619468, 2746797139, 271464534, 5839130713, 5649404007, 436858984, 1108181104, 842912886, 303558774, 5653883003, 4551550084, 30385293, 681921679, 4089076880, 337140883, 506862742, 30594200, 387995802, 873739419, 506045597, 3003083934, 305066155, 274206896, 385609908, 5849129142, 3292767422, 299506880, 7771318470, 268803285, 61470942, 270978274, 271571175, 419331307, 2692221169, 1795200246, 272396535, 6473513209, 386274555, 10822491389, 272197887, 345208065, 268451077, 274201868, 270484752, 298935574, 299506978, 8743150883, 271540516, 386277669, 8088885547, 1420541228, 270979376, 912837937, 30880050, 302753074, 274429234, 712767794, 683899187, 1100471606, 268803385, 268803388, 31319361, 268508494, 500122960, 269832531, 712767830, 3035173206, 276496729, 1119606105, 401433947, 372949348, 270105957, 1420541289, 268437868, 1844467060, 3249330556, 1144606079, 7910116736, 269995399, 271523210, 6439882133, 474701207, 1403110807, 6424334749, 271588774, 3728491950, 268537264, 1966419377, 5010100656, 5611282871, 8060446137, 269964734, 506034623, 2973781440, 276709826, 269344199, 4590083530, 5546724815, 366181839, 1422797263, 8326754770, 503726547, 6348455382, 8236395994, 846601691, 1932668382, 8104959458, 8299149794, 272198128, 273574385, 434303477, 8140824069, 9180662279, 680349193, 268378644, 270457366, 1793877541, 4515808808, 3093746229, 270467641, 2266648128, 4089971265, 3537360449, 3239803460, 5830428238, 274192975, 30384721, 1967747666, 280163927, 271689303, 268385884, 270597734, 505977448, 379122281, 268383850, 1404489323, 6023759473, 386246257, 2732924531, 3894377091, 5417229955, 1382788742, 719481481, 268622485, 3639971479, 372949659, 270989982, 8273229475, 270591660, 269957805, 885813938, 813982395, 270978752, 10920038084, 4080107207, 270500551, 2261315277, 803799760, 8704812762, 371777245, 497482477, 894407414, 2434311932, 8098769661, 1793854208, 7873506054, 503724813, 274200333, 270283538, 8099760915, 268900119, 482816799, 680290085, 8110050088, 474195754, 269956907, 271553324, 30879533, 2343331629, 382939955, 8344792889, 5832581950, 3549072195, 2468587337, 275054412, 270503766, 3311185766, 474195827, 30340979, 270610293, 2376771453, 277243773, 268639105, 274822020, 30341004, 8508440460, 30341007, 382905231, 1409559441, 683941775, 268385173, 30669718, 7967287192, 271607712, 681391009, 268312483, 272197543, 4312134571, 276821941, 3042328511, 1932723139, 4521566148, 386292677, 685431753, 270977994, 31241172, 7887571930, 270114779, 670386143, 30595044, 30595045, 297362409, 30341098, 343227371, 6137599979, 280152050, )\n",
      "Total de PLTBs descartadas: 240\n"
     ]
    }
   ],
   "source": [
    "print('pltbs que quedan descartadas:')\n",
    "print('(', end='')\n",
    "for b in pltbs_a_descartar:\n",
    "    print(b,end=', ')\n",
    "print(')')\n",
    "print('Total de PLTBs descartadas:', len(pltbs_a_descartar))"
   ]
  },
  {
   "cell_type": "code",
   "execution_count": 17,
   "metadata": {},
   "outputs": [],
   "source": [
    "# Vuelve a forma el grafo de la red de transporte\n",
    "g = ox.graph_from_gdfs(gdf_nodes, gdf_edges)\n",
    "\n",
    "# Si se desea guardar el grafo bloqueado\n",
    "# save_graph_geopackage(g, filepath='../GeoData/graph_transport_bloqueado.gpkg', layer='grafo_bloqueado', encoding='utf-8')"
   ]
  },
  {
   "cell_type": "markdown",
   "metadata": {},
   "source": [
    "## Cálculo de matríz origen destino\n",
    "\n",
    "Ya que los puntos de destino son significativamente menos que los de origen, se invierte el grafo para encontrar la ruta desde todos los vertices hasta cada uno de los puntos de atención. "
   ]
  },
  {
   "cell_type": "code",
   "execution_count": 18,
   "metadata": {},
   "outputs": [],
   "source": [
    "# Grafo de transporte invertido\n",
    "gi = g.reverse()\n",
    "g_i_nx = nx.DiGraph(gi)\n",
    "\n",
    "edges_i = nx.to_pandas_edgelist(g_i_nx)\n",
    "edges_i = edges_i[['source','target','weight']]\n",
    "\n",
    "g_i_cuda = cugraph.Graph(directed=True)\n",
    "g_i_cuda.from_pandas_edgelist(edges_i, source='source', destination='target', edge_attr='weight')"
   ]
  },
  {
   "cell_type": "code",
   "execution_count": 19,
   "metadata": {},
   "outputs": [
    {
     "name": "stdout",
     "output_type": "stream",
     "text": [
      "Total de aristas omitidas:  1580\n"
     ]
    }
   ],
   "source": [
    "print('Total de aristas omitidas: ',len(gdf_edges)-len(g_i_cuda.edges()))"
   ]
  },
  {
   "cell_type": "markdown",
   "metadata": {},
   "source": [
    "### Define los origenes y destinos en términos de los ids de los nodos del grafo de transporte"
   ]
  },
  {
   "cell_type": "code",
   "execution_count": 20,
   "metadata": {},
   "outputs": [],
   "source": [
    "# Identifica los orígenes y destinos vecinos, considerando las vías bloqueadas\n",
    "origenes = [ p for p in pltbs_nodos if p not in pltbs_a_descartar]\n",
    "destinos = colapsos['num']\n",
    "\n",
    "# Identifica para cada punto de colapso \"c\" su arista con puntos vecinos \"u,v\"\n",
    "# con los que se puede llegar a \"c\" desde \"u\" o \"v\"\n",
    "colapsos_vecinos = dict([(c,[u,v]) for c, (u,v,k) in zip(destinos, aristas_colapsos )])\n",
    "\n",
    "# Identifica todos los puntos de destino sin repetir\n",
    "destinos_vecinos = set([i for u,v,k in aristas_colapsos for i in [u,v]])\n"
   ]
  },
  {
   "cell_type": "code",
   "execution_count": 21,
   "metadata": {},
   "outputs": [],
   "source": [
    "# Crea un diccionario con los indices de los nodos de origen y destino\n",
    "origen_i_to_node = dict([(i,o) for i,o in enumerate(origenes)])\n",
    "origen_node_to_i = dict([(o,i) for i,o in enumerate(origenes)])\n",
    "\n",
    "# Mapeos de indices \"num\" a nodos y viceversa\n",
    "destino_num_to_node = colapsos_vecinos\n",
    "destino_node_to_num = dict([(i,c) for c, (u,v,k) in zip(destinos, aristas_colapsos ) for i in [u,v]])\n",
    "\n",
    "# Mapeos de indices \"num\" a índices reales y viceversa\n",
    "destino_i_to_num = dict([(i, d) for i,d in enumerate(destinos)])\n",
    "destino_num_to_i = dict([(d, i) for i,d in enumerate(destinos)])"
   ]
  },
  {
   "cell_type": "code",
   "execution_count": 22,
   "metadata": {},
   "outputs": [],
   "source": [
    "pltbs.index = pltbs['node']\n",
    "colapsos.index = colapsos['num']\n",
    "# Toma la capacidad total/2 de cada PLTB\n",
    "capacidades = [pltbs.loc[i]['t_capacity']/2 for i in origenes]\n"
   ]
  },
  {
   "cell_type": "markdown",
   "metadata": {},
   "source": [
    "### Obtiene las rutas desde cada punto de origen hasta cada destino\n",
    "\n",
    "Se almacena en un diccionario, en donde la llave son los destinos y el valor es un dataframe con el resultado del algoritmo de Dijkstra, de dondes e puede obtener la ruta y el costo de llegada desde todos los puntos del grafo de transporte"
   ]
  },
  {
   "cell_type": "code",
   "execution_count": 23,
   "metadata": {},
   "outputs": [
    {
     "name": "stdout",
     "output_type": "stream",
     "text": [
      "costo calculado para cada punto de atención\n"
     ]
    }
   ],
   "source": [
    "rutas = dict()\n",
    "\n",
    "# Calcula las rutas más cortas para cada punto de atención usando el grafo invertido\n",
    "# y dijkstra, las almacena en un diccionario cuya llave es el punto de destino\n",
    "\n",
    "for i,d in enumerate(destinos_vecinos):\n",
    "    df_rutas = cugraph.sssp(g_i_cuda, d, edge_attr='weight')\n",
    "    df_rutas.set_index('vertex', inplace=True)\n",
    "    rutas[d] = df_rutas.round(4).to_pandas()\n",
    "\n",
    "print('costo calculado para cada punto de atención')"
   ]
  },
  {
   "cell_type": "code",
   "execution_count": 24,
   "metadata": {},
   "outputs": [],
   "source": [
    "# Versión con networkx\n",
    "# rutas_nx = dict()\n",
    "# for i,d in enumerate(destinos_vecinos):\n",
    "#     rutas_nx[d] = nx.single_source_dijkstra(g_i_nx, d, weight='weight')[0]\n"
   ]
  },
  {
   "cell_type": "code",
   "execution_count": 25,
   "metadata": {},
   "outputs": [],
   "source": [
    "# En esta celda, se verifica que es equivalente invertir el grafo para calcular las rutas con los puntos de atención como origen\n",
    "\n",
    "# g_nx = nx.DiGraph(g)\n",
    "\n",
    "# Convierte los grafo de transporte a grafos de NetworkX\n",
    "# edges = nx.to_pandas_edgelist(g_nx)\n",
    "# edges = edges[['source','target','weight']]\n",
    "\n",
    "# Crea los grafos de transporte en cuGraph\n",
    "# g_cuda = cugraph.Graph(directed=True)\n",
    "# g_cuda.from_pandas_edgelist(edges, source='source', destination='target', edge_attr='weight')\n",
    "\n",
    "# nodos_ejemplo = 5\n",
    "# rutas2 = dict()\n",
    "# for i,o in enumerate(origenes[0:nodos_ejemplo]): # solo para 10 nodos\n",
    "#     df_rutas2 = cugraph.sssp(g_cuda, o, edge_attr='weight')\n",
    "#     df_rutas2.set_index('vertex', inplace=True)\n",
    "#     rutas2[o] = df_rutas2\n",
    "\n",
    "# for i in range(nodos_ejemplo):\n",
    "#     o = origen_i_to_node[i]\n",
    "#     for j in range(nodos_ejemplo):\n",
    "#         j = destino_i_to_node[j]\n",
    "#         if i != j:\n",
    "#             print('origen:',o, 'destino:',d)\n",
    "#             print('costo con grafo normal:', rutas2[o].loc[d]['distance'])\n",
    "#             print('costo con grafo invertido:', rutas[d].loc[o]['distance'])\n",
    "#             print('------------------------------------',end='\\n\\n')\n"
   ]
  },
  {
   "cell_type": "markdown",
   "metadata": {},
   "source": [
    "### Obtención de la matriz Origen Destino\n",
    "\n",
    "En esta matriz, las filas son las PLTBS y las columnas los colapsos\n",
    "\n",
    "filas: PLTBS\n",
    "columnas: Colapsos"
   ]
  },
  {
   "cell_type": "code",
   "execution_count": 26,
   "metadata": {},
   "outputs": [],
   "source": [
    "# Crea la matriz OD\n",
    "matriz_OD = np.zeros((len(origenes), len(destinos)))\n",
    "\n",
    "# Para cada foco de atención \"d\":\n",
    "for i, d in enumerate(destinos):\n",
    "    \n",
    "    # Identifica cuáles son sus vecinos \"u,v\" por los que se puede llegar a él\n",
    "    vecino_u = colapsos_vecinos[d][0]\n",
    "    vecino_v = colapsos_vecinos[d][1]\n",
    "    \n",
    "    # De las rutas calculadas, obtiene la distancia de cada origen a \"u\" y a \"v\"\n",
    "    distancias_u = rutas[vecino_u].loc[origenes]['distance'].rename('distancia_u')\n",
    "    distancias_v = rutas[vecino_v].loc[origenes]['distance'].rename('distancia_v')\n",
    "    \n",
    "    # Sustituye los valores mayores a 10e20 por 10e20, esto deja las rutas que llegan con un valor normal\n",
    "    # distancias_u < weight_max\n",
    "    # o las rutas que de plano son imposibles, \n",
    "    # distancias_u > 10e20\n",
    "    # quita las rutas que llegan por aristas bloqueadas\n",
    "    \n",
    "    distancias_u = distancias_u*(distancias_u < weight_max) #+ 10e20*(distancias_u > weight_max)\n",
    "    distancias_v = distancias_v*(distancias_v < weight_max) #+ 10e20*(distancias_v > weight_max)\n",
    "    \n",
    "    # Encuentra la distancia máxima para llegar a \"u\" o a \"v desde cada origen\n",
    "    distancias_d = pd.concat([distancias_u, distancias_v], axis=1).max(axis=1)\n",
    "    \n",
    "    # Agrerga la columna a la matriz OD\n",
    "    matriz_OD[:,i] = distancias_d.to_numpy()\n",
    "\n",
    "# Sustituye valores de 0 por 10e20\n",
    "matriz_OD += 10e20*(matriz_OD == 0)"
   ]
  },
  {
   "cell_type": "markdown",
   "metadata": {},
   "source": [
    "### Verificación de valores\n",
    "\n",
    "FInalmente se puede consultar una distancia específica entre dos puntos para comparar con la solución de otro software como Qgis"
   ]
  },
  {
   "cell_type": "code",
   "execution_count": 27,
   "metadata": {},
   "outputs": [
    {
     "name": "stdout",
     "output_type": "stream",
     "text": [
      "origen:  885813813 destinos:  [6426394741, 6426394740]\n"
     ]
    }
   ],
   "source": [
    "# Se identifica la PLTB que ocupa el lugar 45 en la lista de PLTBs\n",
    "o_test = 885813813\n",
    "\n",
    "# se identifican los destinos del colapso num = 28\n",
    "d_test = colapsos_vecinos[10]\n",
    "print(\"origen: \", o_test, \"destinos: \", d_test)"
   ]
  },
  {
   "cell_type": "code",
   "execution_count": 28,
   "metadata": {},
   "outputs": [
    {
     "name": "stdout",
     "output_type": "stream",
     "text": [
      "distance       3.586574e+04\n",
      "predecessor    2.343332e+09\n",
      "Name: 885813813, dtype: float64\n",
      "distance       1.000036e+09\n",
      "predecessor    2.343332e+09\n",
      "Name: 885813813, dtype: float64\n"
     ]
    }
   ],
   "source": [
    "# rutas[\"llega_a:\"].loc[\"desde:\"]\n",
    "print(rutas[d_test[0]].loc[o_test])\n",
    "print(rutas[d_test[1]].loc[o_test])"
   ]
  },
  {
   "cell_type": "markdown",
   "metadata": {},
   "source": [
    "### Obtención de ruta\n",
    "\n",
    "A partir del diccionario de rutas se obiene la ruta completa"
   ]
  },
  {
   "cell_type": "code",
   "execution_count": 29,
   "metadata": {},
   "outputs": [
    {
     "name": "stdout",
     "output_type": "stream",
     "text": [
      "(6426394741, 365071548, 3033876340, 3693891318, 3033876345, 365071552, 332717008, 7956149575, 7943251860, 6175369860, 2910122897, 7956275181, 7956275182, 6426394924, 4252847523, 7956324404, 332716988, 7952121582, 332716983, 6426395033, 7964446905, 332716978, 1494127324, 6175520921, 6169114439, 332716962, 332716960, 7955058384, 332718550, 6437158225, 7954949365, 7939506963, 7939506964, 7939801315, 274979571, 8999000205, 7942905495, 274980144, 275031858, 275029510, 7960666645, 274980763, 274997681, 274996697, 691468110, 8643513237, 1695838148, 1695838176, 7942812603, 274996692, 274994785, 274994782, 1015469877, 1015469855, 4087232145, 1695838281, 274993488, 274993763, 2716409563, 2716409562, 6166748670, 2716391677, 2716409560, 336596993, 2716391662, 343611357, 6298545954, 331992529, 331992523, 1397756675, 276072676, 276077874, 1428545162, 1428545171, 276069803, 276070529, 276070033, 276070334, 344410767, 4086720820, 270607846, 270607845, 274920033, 274929697, 274929236, 274928739, 274920348, 274926102, 274926221, 274926222, 274926223, 274926224, 270608815, 1395878618, 274924941, 274923777, 8226797970, 8226797973, 30594423, 30594419, 30594414, 268716800, 1395878650, 7952264383, 1395878661, 1395878666, 274916407, 274916508, 473092374, 268716097, 1395878696, 268716170, 268716065, 274848427, 274848329, 274848245, 274847082, 274847373, 5579846185, 31241305, 274852045, 31062108, 268463310, 30384352, 31241296, 31241306, 1409559403, 274846898, 5385777821, 31241315, 274846895, 274846896, 274846897, 1415233484, 49586560, 49586558, 49586624, 49586548, 49586543, 49586541, 3994112029, 3994112024, 2311012144, 2311012146, 2311012150, 2311012154, 31241150, 268460475, 5833492210, 274851065, 841724152, 2461433553, 841724115, 30385287, 2461433555, 2286017100, 3179081383, 3179081384, 381148599, 268452546, 848492635, 268451076, 848492632, 268451075, 30381507, 7920799742, 5832540263, 5832540260, 30381504, 49599661, 270214685, 30381501, 7911203927, 30381499, 30381498, 1382788734, 270105704, 30381496, 3982056701, 270110517, 270284528, 270284122, 270283174, 270283175, 270283177, 270285529, 270286218, 270286647, 1383642188, 1383642126, 1865890098, 6364387453, 270458189, 270459215, 270459326, 268900102, 268902312, 370465382, 370465384, 370465383, 370465386, 370465387, 370465359, 370465358, 370465406, 6364055109, 1404054331, 1404054337, 370465451, 370465452, 386248413, 386244396, 386248341, 386248023, 386248025, 386244397, 386248427, 386244398, 386248691, 386250131, 1865208065, 1865208068, 386246835, 386248328, 386246286, 8186697204, 386247800, 1932668029, 1932668065, 1932854614, 386244399, 1932668138, 1932668183, 1404054416, 1404054418, 1932668253, 1404054433, 1404054436, 1404054441, 386247528, 8104259001, 8104259004, 8104259007, 1404054457, 60916381, 8186651497, 3736262612, 3736262613, 271521456, 6137504960, 271523210, 8104198579, 395224937, 273962156, 1404054517, 885838471, 885838521, 885838519, 919822097, 919822065, 8186527507, 919822096, 885838535, 919822076, 919822081, 919822085, 885838623, 3644993004, 919822055, 919822072, 919822071, 2121138178, 1794068825, 919821761, 919821763, 8230903178, 8230903182, 919821723, 1794061872, 1794061846, 1794061861, 885814161, 885814157, 885814156, 885814155, 885814150, 885814083, 885814081, 885814080, 885814079, 1860631896, 1860631934, 885814141, 6175566858, 885814140, 6179669738, 1860632321, 5582521082, 885814136, 8011072889, 885814064, 1860632414, 1860632536, 1860632649, 1860632744, 1860632758, 9956004111, 1860632880, 9956004120, 9956004117, 1860632943, 10268887971, 1860632988, 1860633015, 5591854099, 10579929325, 1860633063, 1860633073, 1860633088, 1860633095, 1860633108, 1860633134, 1860633140, 1860633150, 1860633151, 1860633189, 2343330185, 1860633224, 1860633236, 2211190497, 6152447785, 6152447403, 5576218485, 2343330232, 5576218493, 5576218499, 4621589914, 2343330246, 9996010580, 5576221239, 2343330282, 6152447343, 2343330311, 4621580832, 4621580708, 4621580716, 4621580731, 2343330341, 4621580810, 6152447617, 8253782276, 2343330368, 2343330379, 6146353576, 6146353371, 2343330400, 6146353306, 4621580748, 2343331562, 10798196967, 2343331570, 2343331575, 6148116508, 2343331589, 2343331594, 4621589947, 4621589948, 2343331613, 2343331625, 2343331627, 2343331630, 885813813, )\n"
     ]
    }
   ],
   "source": [
    "a = get_route_from_df(rutas[d_test[0]],o_test)\n",
    "\n",
    "print('(',end='')\n",
    "for i in a[1]:\n",
    "    print(i,end=', ')\n",
    "\n",
    "print(')')"
   ]
  },
  {
   "cell_type": "markdown",
   "metadata": {},
   "source": [
    "## Determina la demanda de cada colapso\n",
    "\n",
    "Para determinar la demanda, toma el porcentaje de víctimas en cada uno de los colapsos, y toma ese porcentaje del total de ambulancias disponibles. Además garantiza que cada punto tenga al menos una demanda de 1"
   ]
  },
  {
   "cell_type": "code",
   "execution_count": 30,
   "metadata": {},
   "outputs": [
    {
     "name": "stdout",
     "output_type": "stream",
     "text": [
      "Demanda proporcional:  251\n",
      "Demanda proporcional ajustada:  251\n",
      "[44, 6, 20, 5, 5, 25, 20, 6, 15, 5, 6, 15, 5, 5, 13, 20, 6, 15, 15]\n"
     ]
    }
   ],
   "source": [
    "victimas = np.array([colapsos.loc[destino_i_to_num[i]]['victimas'] for i in range(len(destinos))])\n",
    "\n",
    "# Numero total de ambulancias disponibles\n",
    "num_ambulancias = 250 \n",
    "demanda = (victimas/np.sum(victimas)) * (num_ambulancias - len(victimas))\n",
    "demanda = np.round(demanda).astype(int) + 1\n",
    "demanda = demanda.tolist()\n",
    "print('Demanda proporcional: ',sum(demanda))\n",
    "\n",
    "\n",
    "if sum(demanda) > num_ambulancias:\n",
    "    print('Demanda proporcional ajustada: ',sum(demanda))\n",
    "    \n",
    "print(demanda)"
   ]
  },
  {
   "cell_type": "markdown",
   "metadata": {},
   "source": [
    "## Almacenamiento de la instancia\n",
    "\n",
    "Posteriormente se almacenan las variables que representan a esta instancia"
   ]
  },
  {
   "cell_type": "code",
   "execution_count": 31,
   "metadata": {},
   "outputs": [],
   "source": [
    "instancia = {'origenes': origenes,\n",
    "             'destinos': destinos,\n",
    "             \n",
    "             'origen_i_to_node': origen_i_to_node,\n",
    "             'origen_node_to_i': origen_node_to_i,\n",
    "             \n",
    "             'destino_i_to_num': destino_i_to_num,\n",
    "             'destino_num_to_i': destino_num_to_i,\n",
    "             \n",
    "             'destino_num_to_node': destino_num_to_node,\n",
    "             'destino_node_to_num': destino_node_to_num,\n",
    "             \n",
    "             'capacidades': capacidades,\n",
    "             'demanda': demanda,\n",
    "             \n",
    "             'matriz_OD': matriz_OD,\n",
    "             'rutas': rutas\n",
    "             }\n"
   ]
  },
  {
   "cell_type": "code",
   "execution_count": 32,
   "metadata": {},
   "outputs": [],
   "source": [
    "# with open(out, 'wb') as f:  \n",
    "#     pickle.dump(instancia, f)\n",
    "#     f.close()\n",
    "\n",
    "# with open(out, 'rb') as f:\n",
    "#     instance = pickle.load(f) \n",
    "#     f.close()\n"
   ]
  }
 ],
 "metadata": {
  "kernelspec": {
   "display_name": "rapids",
   "language": "python",
   "name": "python3"
  },
  "language_info": {
   "codemirror_mode": {
    "name": "ipython",
    "version": 3
   },
   "file_extension": ".py",
   "mimetype": "text/x-python",
   "name": "python",
   "nbconvert_exporter": "python",
   "pygments_lexer": "ipython3",
   "version": "3.10.12"
  },
  "orig_nbformat": 4
 },
 "nbformat": 4,
 "nbformat_minor": 2
}
